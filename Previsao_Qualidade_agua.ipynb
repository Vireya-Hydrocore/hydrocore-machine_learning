{
 "cells": [
  {
   "cell_type": "markdown",
   "id": "32fbc718",
   "metadata": {},
   "source": [
    "### Relatório de Seleção de Modelos de Machine Learning\n",
    "Introdução\n",
    "\n",
    "Após uma análise detalhada e uma extensa busca por modelos que melhor se adequassem ao nosso caso de uso, foram realizados diversos testes comparativos envolvendo diferentes algoritmos de classificação.\n",
    "\n",
    "Resultados e Conclusão\n",
    "\n",
    "Com base nos resultados obtidos, constatou-se que os modelos que apresentaram o melhor desempenho e foram usados para essa analise e criação são:\n",
    "\n",
    "DecisionTreeClassifier\n",
    "\n",
    "RandomForestClassifier\n",
    "\n",
    "Ambos os modelos demonstraram elevada capacidade de generalização, boa precisão e adequação às características do conjunto de dados analisado. Assim, esses classificadores foram considerados os mais apropriados para o problema em questão."
   ]
  },
  {
   "cell_type": "code",
   "execution_count": 1,
   "id": "a42e0c1b",
   "metadata": {},
   "outputs": [],
   "source": [
    "import numpy as np\n",
    "\n",
    "import pandas as pd \n",
    "\n",
    "import matplotlib.pyplot as plt\n",
    "import seaborn as sns\n",
    "\n",
    "from sklearn.model_selection import train_test_split\n",
    "from sklearn import preprocessing\n",
    "from sklearn import metrics\n",
    "from sklearn.tree import DecisionTreeClassifier\n",
    "from sklearn.preprocessing import StandardScaler,MinMaxScaler,PowerTransformer\n",
    "from sklearn.metrics import classification_report, accuracy_score\n",
    "from sklearn import datasets\n",
    "from sklearn.metrics import confusion_matrix\n",
    "from sklearn import tree\n",
    "from sklearn.metrics import classification_report, confusion_matrix, accuracy_score\n",
    "from sklearn.ensemble import RandomForestClassifier\n",
    "import random\n",
    "\n",
    "import warnings\n",
    "warnings.filterwarnings(\"ignore\")"
   ]
  },
  {
   "cell_type": "markdown",
   "id": "fd20202c-3c95-4546-81f8-f1d1873dad30",
   "metadata": {},
   "source": [
    "## Exploração Básica"
   ]
  },
  {
   "cell_type": "code",
   "execution_count": 2,
   "id": "dda60b51-4a8a-47f7-a8c1-b213e0aa4a60",
   "metadata": {},
   "outputs": [
    {
     "data": {
      "application/vnd.microsoft.datawrangler.viewer.v0+json": {
       "columns": [
        {
         "name": "index",
         "rawType": "object",
         "type": "string"
        },
        {
         "name": "ph",
         "rawType": "float64",
         "type": "float"
        },
        {
         "name": "Hardness",
         "rawType": "float64",
         "type": "float"
        },
        {
         "name": "Solids",
         "rawType": "float64",
         "type": "float"
        },
        {
         "name": "Chloramines",
         "rawType": "float64",
         "type": "float"
        },
        {
         "name": "Sulfate",
         "rawType": "float64",
         "type": "float"
        },
        {
         "name": "Conductivity",
         "rawType": "float64",
         "type": "float"
        },
        {
         "name": "Organic_carbon",
         "rawType": "float64",
         "type": "float"
        },
        {
         "name": "Trihalomethanes",
         "rawType": "float64",
         "type": "float"
        },
        {
         "name": "Turbidity",
         "rawType": "float64",
         "type": "float"
        },
        {
         "name": "Potability",
         "rawType": "float64",
         "type": "float"
        }
       ],
       "ref": "61c20ce1-b7e4-4d28-b45c-967a6225cd13",
       "rows": [
        [
         "count",
         "50000.0",
         "50000.0",
         "50000.0",
         "50000.0",
         "50000.0",
         "50000.0",
         "50000.0",
         "50000.0",
         "50000.0",
         "50000.0"
        ],
        [
         "mean",
         "7.093382038343325",
         "196.348959533194",
         "22077.020484024335",
         "7.071627741133924",
         "333.80295870470104",
         "426.80793724143496",
         "14.235886060884274",
         "66.52004698884436",
         "3.9465626770150855",
         "0.3901"
        ],
        [
         "std",
         "3.0851236388990726",
         "32.76191311393456",
         "8419.216686784173",
         "3.2155497276128644",
         "35.39274985912615",
         "77.54373088950126",
         "5.689393994339915",
         "17.02618461721239",
         "1.628012481757673",
         "0.487777355496307"
        ],
        [
         "min",
         "3.442510338283572",
         "114.23636579883768",
         "5416.238724468493",
         "3.2030819022911725",
         "237.13695691301783",
         "269.4229472311401",
         "6.452487037954768",
         "28.52499261378618",
         "2.1614141449375825",
         "0.0"
        ],
        [
         "25%",
         "3.6755670488129466",
         "174.17949557653424",
         "16144.860895268304",
         "3.3308693302146195",
         "310.46912931798283",
         "371.8355285326181",
         "8.4927845633237",
         "54.767586827687104",
         "2.199628306137884",
         "0.0"
        ],
        [
         "50%",
         "7.036752103833548",
         "196.3777403492343",
         "21891.102959655876",
         "7.145098228133669",
         "333.38942610169323",
         "426.1044568689291",
         "14.196323837419158",
         "66.57591273564023",
         "3.9294555977144503",
         "0.0"
        ],
        [
         "75%",
         "10.493743809069404",
         "218.7452128217484",
         "27791.54565989147",
         "10.653648989685172",
         "357.2273775184505",
         "480.39148955800164",
         "20.03904938923266",
         "78.33016875018663",
         "5.709117717885048",
         "1.0"
        ],
        [
         "max",
         "10.812924894406173",
         "278.062602333034",
         "45974.10648980326",
         "10.967152881398318",
         "429.0281388090126",
         "617.6265581538769",
         "22.090048927593102",
         "104.60629940595828",
         "5.741639726505603",
         "1.0"
        ]
       ],
       "shape": {
        "columns": 10,
        "rows": 8
       }
      },
      "text/html": [
       "<div>\n",
       "<style scoped>\n",
       "    .dataframe tbody tr th:only-of-type {\n",
       "        vertical-align: middle;\n",
       "    }\n",
       "\n",
       "    .dataframe tbody tr th {\n",
       "        vertical-align: top;\n",
       "    }\n",
       "\n",
       "    .dataframe thead th {\n",
       "        text-align: right;\n",
       "    }\n",
       "</style>\n",
       "<table border=\"1\" class=\"dataframe\">\n",
       "  <thead>\n",
       "    <tr style=\"text-align: right;\">\n",
       "      <th></th>\n",
       "      <th>ph</th>\n",
       "      <th>Hardness</th>\n",
       "      <th>Solids</th>\n",
       "      <th>Chloramines</th>\n",
       "      <th>Sulfate</th>\n",
       "      <th>Conductivity</th>\n",
       "      <th>Organic_carbon</th>\n",
       "      <th>Trihalomethanes</th>\n",
       "      <th>Turbidity</th>\n",
       "      <th>Potability</th>\n",
       "    </tr>\n",
       "  </thead>\n",
       "  <tbody>\n",
       "    <tr>\n",
       "      <th>count</th>\n",
       "      <td>50000.000000</td>\n",
       "      <td>50000.000000</td>\n",
       "      <td>50000.000000</td>\n",
       "      <td>50000.000000</td>\n",
       "      <td>50000.000000</td>\n",
       "      <td>50000.000000</td>\n",
       "      <td>50000.000000</td>\n",
       "      <td>50000.000000</td>\n",
       "      <td>50000.000000</td>\n",
       "      <td>50000.000000</td>\n",
       "    </tr>\n",
       "    <tr>\n",
       "      <th>mean</th>\n",
       "      <td>7.093382</td>\n",
       "      <td>196.348960</td>\n",
       "      <td>22077.020484</td>\n",
       "      <td>7.071628</td>\n",
       "      <td>333.802959</td>\n",
       "      <td>426.807937</td>\n",
       "      <td>14.235886</td>\n",
       "      <td>66.520047</td>\n",
       "      <td>3.946563</td>\n",
       "      <td>0.390100</td>\n",
       "    </tr>\n",
       "    <tr>\n",
       "      <th>std</th>\n",
       "      <td>3.085124</td>\n",
       "      <td>32.761913</td>\n",
       "      <td>8419.216687</td>\n",
       "      <td>3.215550</td>\n",
       "      <td>35.392750</td>\n",
       "      <td>77.543731</td>\n",
       "      <td>5.689394</td>\n",
       "      <td>17.026185</td>\n",
       "      <td>1.628012</td>\n",
       "      <td>0.487777</td>\n",
       "    </tr>\n",
       "    <tr>\n",
       "      <th>min</th>\n",
       "      <td>3.442510</td>\n",
       "      <td>114.236366</td>\n",
       "      <td>5416.238724</td>\n",
       "      <td>3.203082</td>\n",
       "      <td>237.136957</td>\n",
       "      <td>269.422947</td>\n",
       "      <td>6.452487</td>\n",
       "      <td>28.524993</td>\n",
       "      <td>2.161414</td>\n",
       "      <td>0.000000</td>\n",
       "    </tr>\n",
       "    <tr>\n",
       "      <th>25%</th>\n",
       "      <td>3.675567</td>\n",
       "      <td>174.179496</td>\n",
       "      <td>16144.860895</td>\n",
       "      <td>3.330869</td>\n",
       "      <td>310.469129</td>\n",
       "      <td>371.835529</td>\n",
       "      <td>8.492785</td>\n",
       "      <td>54.767587</td>\n",
       "      <td>2.199628</td>\n",
       "      <td>0.000000</td>\n",
       "    </tr>\n",
       "    <tr>\n",
       "      <th>50%</th>\n",
       "      <td>7.036752</td>\n",
       "      <td>196.377740</td>\n",
       "      <td>21891.102960</td>\n",
       "      <td>7.145098</td>\n",
       "      <td>333.389426</td>\n",
       "      <td>426.104457</td>\n",
       "      <td>14.196324</td>\n",
       "      <td>66.575913</td>\n",
       "      <td>3.929456</td>\n",
       "      <td>0.000000</td>\n",
       "    </tr>\n",
       "    <tr>\n",
       "      <th>75%</th>\n",
       "      <td>10.493744</td>\n",
       "      <td>218.745213</td>\n",
       "      <td>27791.545660</td>\n",
       "      <td>10.653649</td>\n",
       "      <td>357.227378</td>\n",
       "      <td>480.391490</td>\n",
       "      <td>20.039049</td>\n",
       "      <td>78.330169</td>\n",
       "      <td>5.709118</td>\n",
       "      <td>1.000000</td>\n",
       "    </tr>\n",
       "    <tr>\n",
       "      <th>max</th>\n",
       "      <td>10.812925</td>\n",
       "      <td>278.062602</td>\n",
       "      <td>45974.106490</td>\n",
       "      <td>10.967153</td>\n",
       "      <td>429.028139</td>\n",
       "      <td>617.626558</td>\n",
       "      <td>22.090049</td>\n",
       "      <td>104.606299</td>\n",
       "      <td>5.741640</td>\n",
       "      <td>1.000000</td>\n",
       "    </tr>\n",
       "  </tbody>\n",
       "</table>\n",
       "</div>"
      ],
      "text/plain": [
       "                 ph      Hardness        Solids   Chloramines       Sulfate  \\\n",
       "count  50000.000000  50000.000000  50000.000000  50000.000000  50000.000000   \n",
       "mean       7.093382    196.348960  22077.020484      7.071628    333.802959   \n",
       "std        3.085124     32.761913   8419.216687      3.215550     35.392750   \n",
       "min        3.442510    114.236366   5416.238724      3.203082    237.136957   \n",
       "25%        3.675567    174.179496  16144.860895      3.330869    310.469129   \n",
       "50%        7.036752    196.377740  21891.102960      7.145098    333.389426   \n",
       "75%       10.493744    218.745213  27791.545660     10.653649    357.227378   \n",
       "max       10.812925    278.062602  45974.106490     10.967153    429.028139   \n",
       "\n",
       "       Conductivity  Organic_carbon  Trihalomethanes     Turbidity  \\\n",
       "count  50000.000000    50000.000000     50000.000000  50000.000000   \n",
       "mean     426.807937       14.235886        66.520047      3.946563   \n",
       "std       77.543731        5.689394        17.026185      1.628012   \n",
       "min      269.422947        6.452487        28.524993      2.161414   \n",
       "25%      371.835529        8.492785        54.767587      2.199628   \n",
       "50%      426.104457       14.196324        66.575913      3.929456   \n",
       "75%      480.391490       20.039049        78.330169      5.709118   \n",
       "max      617.626558       22.090049       104.606299      5.741640   \n",
       "\n",
       "         Potability  \n",
       "count  50000.000000  \n",
       "mean       0.390100  \n",
       "std        0.487777  \n",
       "min        0.000000  \n",
       "25%        0.000000  \n",
       "50%        0.000000  \n",
       "75%        1.000000  \n",
       "max        1.000000  "
      ]
     },
     "execution_count": 2,
     "metadata": {},
     "output_type": "execute_result"
    }
   ],
   "source": [
    "df = pd.read_csv(\"water_potability_augmented.csv\")\n",
    "df.describe()"
   ]
  },
  {
   "cell_type": "code",
   "execution_count": 3,
   "id": "7a6514a0-1d77-4198-8ad4-713ea58f03e8",
   "metadata": {},
   "outputs": [
    {
     "name": "stdout",
     "output_type": "stream",
     "text": [
      "['ph', 'Hardness', 'Solids', 'Chloramines', 'Sulfate', 'Conductivity', 'Organic_carbon', 'Trihalomethanes', 'Turbidity', 'Potability']\n"
     ]
    }
   ],
   "source": [
    "lista_colunas = df.columns.tolist()\n",
    "print(lista_colunas)"
   ]
  },
  {
   "cell_type": "code",
   "execution_count": 4,
   "id": "54655ad9",
   "metadata": {},
   "outputs": [
    {
     "data": {
      "application/vnd.microsoft.datawrangler.viewer.v0+json": {
       "columns": [
        {
         "name": "index",
         "rawType": "object",
         "type": "string"
        },
        {
         "name": "0",
         "rawType": "int64",
         "type": "integer"
        }
       ],
       "ref": "29c97e61-0c6c-482f-8f3b-2fa2490df6cf",
       "rows": [
        [
         "ph",
         "50000"
        ],
        [
         "Hardness",
         "50000"
        ],
        [
         "Solids",
         "50000"
        ],
        [
         "Chloramines",
         "50000"
        ],
        [
         "Sulfate",
         "50000"
        ],
        [
         "Conductivity",
         "50000"
        ],
        [
         "Organic_carbon",
         "50000"
        ],
        [
         "Trihalomethanes",
         "50000"
        ],
        [
         "Turbidity",
         "50000"
        ],
        [
         "Potability",
         "50000"
        ]
       ],
       "shape": {
        "columns": 1,
        "rows": 10
       }
      },
      "text/plain": [
       "ph                 50000\n",
       "Hardness           50000\n",
       "Solids             50000\n",
       "Chloramines        50000\n",
       "Sulfate            50000\n",
       "Conductivity       50000\n",
       "Organic_carbon     50000\n",
       "Trihalomethanes    50000\n",
       "Turbidity          50000\n",
       "Potability         50000\n",
       "dtype: int64"
      ]
     },
     "execution_count": 4,
     "metadata": {},
     "output_type": "execute_result"
    }
   ],
   "source": [
    "df.count()"
   ]
  },
  {
   "cell_type": "code",
   "execution_count": 5,
   "id": "2608e6a5-21a2-49cd-aff0-d1b4aeebdc4a",
   "metadata": {},
   "outputs": [
    {
     "data": {
      "application/vnd.microsoft.datawrangler.viewer.v0+json": {
       "columns": [
        {
         "name": "index",
         "rawType": "int64",
         "type": "integer"
        },
        {
         "name": "ph",
         "rawType": "float64",
         "type": "float"
        },
        {
         "name": "Hardness",
         "rawType": "float64",
         "type": "float"
        },
        {
         "name": "Solids",
         "rawType": "float64",
         "type": "float"
        },
        {
         "name": "Chloramines",
         "rawType": "float64",
         "type": "float"
        },
        {
         "name": "Sulfate",
         "rawType": "float64",
         "type": "float"
        },
        {
         "name": "Conductivity",
         "rawType": "float64",
         "type": "float"
        },
        {
         "name": "Organic_carbon",
         "rawType": "float64",
         "type": "float"
        },
        {
         "name": "Trihalomethanes",
         "rawType": "float64",
         "type": "float"
        },
        {
         "name": "Turbidity",
         "rawType": "float64",
         "type": "float"
        },
        {
         "name": "Potability",
         "rawType": "int64",
         "type": "integer"
        }
       ],
       "ref": "8ff407ea-681e-4a0f-a523-4094fd5515d8",
       "rows": [
        [
         "0",
         "10.493743809069404",
         "162.80039741462383",
         "25669.38071161411",
         "9.678974356779666",
         "368.1455347030298",
         "434.6565539182101",
         "6.452487037954768",
         "51.52994858726586",
         "5.739600226341279",
         "1"
        ],
        [
         "1",
         "10.812924894406173",
         "176.96531068288624",
         "17520.81512897361",
         "10.653648989685172",
         "307.04035404230626",
         "547.5988105289404",
         "12.544226874775386",
         "89.52757950112812",
         "5.709117717885048",
         "0"
        ],
        [
         "2",
         "4.126528715100222",
         "125.4748835138738",
         "11215.945901592888",
         "5.366011335667973",
         "261.44479767930693",
         "445.2414568851872",
         "18.575920677608508",
         "86.43365536398535",
         "4.460200983755287",
         "0"
        ],
        [
         "3",
         "3.442510338283572",
         "194.9984239100292",
         "6151.833327629507",
         "10.653648989685172",
         "320.7380663121914",
         "486.44589479669935",
         "11.104004319118983",
         "80.18999957213516",
         "2.199628306137884",
         "0"
        ],
        [
         "4",
         "10.493743809069404",
         "210.1380706647701",
         "30981.374502311",
         "3.2030819022911725",
         "352.185587756846",
         "334.77764285752176",
         "21.44583512459433",
         "96.1928435272846",
         "2.1614141449375825",
         "1"
        ]
       ],
       "shape": {
        "columns": 10,
        "rows": 5
       }
      },
      "text/html": [
       "<div>\n",
       "<style scoped>\n",
       "    .dataframe tbody tr th:only-of-type {\n",
       "        vertical-align: middle;\n",
       "    }\n",
       "\n",
       "    .dataframe tbody tr th {\n",
       "        vertical-align: top;\n",
       "    }\n",
       "\n",
       "    .dataframe thead th {\n",
       "        text-align: right;\n",
       "    }\n",
       "</style>\n",
       "<table border=\"1\" class=\"dataframe\">\n",
       "  <thead>\n",
       "    <tr style=\"text-align: right;\">\n",
       "      <th></th>\n",
       "      <th>ph</th>\n",
       "      <th>Hardness</th>\n",
       "      <th>Solids</th>\n",
       "      <th>Chloramines</th>\n",
       "      <th>Sulfate</th>\n",
       "      <th>Conductivity</th>\n",
       "      <th>Organic_carbon</th>\n",
       "      <th>Trihalomethanes</th>\n",
       "      <th>Turbidity</th>\n",
       "      <th>Potability</th>\n",
       "    </tr>\n",
       "  </thead>\n",
       "  <tbody>\n",
       "    <tr>\n",
       "      <th>0</th>\n",
       "      <td>10.493744</td>\n",
       "      <td>162.800397</td>\n",
       "      <td>25669.380712</td>\n",
       "      <td>9.678974</td>\n",
       "      <td>368.145535</td>\n",
       "      <td>434.656554</td>\n",
       "      <td>6.452487</td>\n",
       "      <td>51.529949</td>\n",
       "      <td>5.739600</td>\n",
       "      <td>1</td>\n",
       "    </tr>\n",
       "    <tr>\n",
       "      <th>1</th>\n",
       "      <td>10.812925</td>\n",
       "      <td>176.965311</td>\n",
       "      <td>17520.815129</td>\n",
       "      <td>10.653649</td>\n",
       "      <td>307.040354</td>\n",
       "      <td>547.598811</td>\n",
       "      <td>12.544227</td>\n",
       "      <td>89.527580</td>\n",
       "      <td>5.709118</td>\n",
       "      <td>0</td>\n",
       "    </tr>\n",
       "    <tr>\n",
       "      <th>2</th>\n",
       "      <td>4.126529</td>\n",
       "      <td>125.474884</td>\n",
       "      <td>11215.945902</td>\n",
       "      <td>5.366011</td>\n",
       "      <td>261.444798</td>\n",
       "      <td>445.241457</td>\n",
       "      <td>18.575921</td>\n",
       "      <td>86.433655</td>\n",
       "      <td>4.460201</td>\n",
       "      <td>0</td>\n",
       "    </tr>\n",
       "    <tr>\n",
       "      <th>3</th>\n",
       "      <td>3.442510</td>\n",
       "      <td>194.998424</td>\n",
       "      <td>6151.833328</td>\n",
       "      <td>10.653649</td>\n",
       "      <td>320.738066</td>\n",
       "      <td>486.445895</td>\n",
       "      <td>11.104004</td>\n",
       "      <td>80.190000</td>\n",
       "      <td>2.199628</td>\n",
       "      <td>0</td>\n",
       "    </tr>\n",
       "    <tr>\n",
       "      <th>4</th>\n",
       "      <td>10.493744</td>\n",
       "      <td>210.138071</td>\n",
       "      <td>30981.374502</td>\n",
       "      <td>3.203082</td>\n",
       "      <td>352.185588</td>\n",
       "      <td>334.777643</td>\n",
       "      <td>21.445835</td>\n",
       "      <td>96.192844</td>\n",
       "      <td>2.161414</td>\n",
       "      <td>1</td>\n",
       "    </tr>\n",
       "  </tbody>\n",
       "</table>\n",
       "</div>"
      ],
      "text/plain": [
       "          ph    Hardness        Solids  Chloramines     Sulfate  Conductivity  \\\n",
       "0  10.493744  162.800397  25669.380712     9.678974  368.145535    434.656554   \n",
       "1  10.812925  176.965311  17520.815129    10.653649  307.040354    547.598811   \n",
       "2   4.126529  125.474884  11215.945902     5.366011  261.444798    445.241457   \n",
       "3   3.442510  194.998424   6151.833328    10.653649  320.738066    486.445895   \n",
       "4  10.493744  210.138071  30981.374502     3.203082  352.185588    334.777643   \n",
       "\n",
       "   Organic_carbon  Trihalomethanes  Turbidity  Potability  \n",
       "0        6.452487        51.529949   5.739600           1  \n",
       "1       12.544227        89.527580   5.709118           0  \n",
       "2       18.575921        86.433655   4.460201           0  \n",
       "3       11.104004        80.190000   2.199628           0  \n",
       "4       21.445835        96.192844   2.161414           1  "
      ]
     },
     "execution_count": 5,
     "metadata": {},
     "output_type": "execute_result"
    }
   ],
   "source": [
    "df.head()"
   ]
  },
  {
   "cell_type": "code",
   "execution_count": 6,
   "id": "12829e1a",
   "metadata": {},
   "outputs": [
    {
     "data": {
      "application/vnd.microsoft.datawrangler.viewer.v0+json": {
       "columns": [
        {
         "name": "index",
         "rawType": "int64",
         "type": "integer"
        },
        {
         "name": "ph",
         "rawType": "float64",
         "type": "float"
        },
        {
         "name": "Hardness",
         "rawType": "float64",
         "type": "float"
        },
        {
         "name": "Solids",
         "rawType": "float64",
         "type": "float"
        },
        {
         "name": "Chloramines",
         "rawType": "float64",
         "type": "float"
        },
        {
         "name": "Sulfate",
         "rawType": "float64",
         "type": "float"
        },
        {
         "name": "Conductivity",
         "rawType": "float64",
         "type": "float"
        },
        {
         "name": "Organic_carbon",
         "rawType": "float64",
         "type": "float"
        },
        {
         "name": "Trihalomethanes",
         "rawType": "float64",
         "type": "float"
        },
        {
         "name": "Turbidity",
         "rawType": "float64",
         "type": "float"
        },
        {
         "name": "Potability",
         "rawType": "int64",
         "type": "integer"
        }
       ],
       "ref": "c677b150-274d-42b0-9e7c-d67e8396a085",
       "rows": [
        [
         "49995",
         "3.442510338283572",
         "164.69324304820836",
         "35463.70859690817",
         "10.653648989685172",
         "284.9334457020663",
         "269.4229472311401",
         "16.7946799241214",
         "82.29533789625567",
         "5.709117717885048",
         "0"
        ],
        [
         "49996",
         "8.305013655360966",
         "166.74395297205174",
         "9896.311235503706",
         "10.599466671347905",
         "399.9727745913394",
         "459.8291336874313",
         "6.452487037954768",
         "83.28036963827853",
         "2.1614141449375825",
         "1"
        ],
        [
         "49997",
         "10.493743809069404",
         "205.9234368187185",
         "26288.922641597444",
         "7.78530649148948",
         "403.4342367353741",
         "329.31781146703366",
         "19.25701107594873",
         "48.97237754115592",
         "5.739600226341279",
         "1"
        ],
        [
         "49998",
         "8.783167623905637",
         "218.0328397705385",
         "16183.586649397506",
         "7.390474095948067",
         "334.0538854587382",
         "389.0216156030328",
         "16.354520235606856",
         "47.10098206923328",
         "4.274136884143136",
         "0"
        ],
        [
         "49999",
         "5.423966355253449",
         "180.24738319665815",
         "22774.189486218114",
         "3.4061977832149792",
         "355.49255058429384",
         "380.4257687589818",
         "13.0886816435184",
         "37.93551403285949",
         "5.709117717885048",
         "0"
        ]
       ],
       "shape": {
        "columns": 10,
        "rows": 5
       }
      },
      "text/html": [
       "<div>\n",
       "<style scoped>\n",
       "    .dataframe tbody tr th:only-of-type {\n",
       "        vertical-align: middle;\n",
       "    }\n",
       "\n",
       "    .dataframe tbody tr th {\n",
       "        vertical-align: top;\n",
       "    }\n",
       "\n",
       "    .dataframe thead th {\n",
       "        text-align: right;\n",
       "    }\n",
       "</style>\n",
       "<table border=\"1\" class=\"dataframe\">\n",
       "  <thead>\n",
       "    <tr style=\"text-align: right;\">\n",
       "      <th></th>\n",
       "      <th>ph</th>\n",
       "      <th>Hardness</th>\n",
       "      <th>Solids</th>\n",
       "      <th>Chloramines</th>\n",
       "      <th>Sulfate</th>\n",
       "      <th>Conductivity</th>\n",
       "      <th>Organic_carbon</th>\n",
       "      <th>Trihalomethanes</th>\n",
       "      <th>Turbidity</th>\n",
       "      <th>Potability</th>\n",
       "    </tr>\n",
       "  </thead>\n",
       "  <tbody>\n",
       "    <tr>\n",
       "      <th>49995</th>\n",
       "      <td>3.442510</td>\n",
       "      <td>164.693243</td>\n",
       "      <td>35463.708597</td>\n",
       "      <td>10.653649</td>\n",
       "      <td>284.933446</td>\n",
       "      <td>269.422947</td>\n",
       "      <td>16.794680</td>\n",
       "      <td>82.295338</td>\n",
       "      <td>5.709118</td>\n",
       "      <td>0</td>\n",
       "    </tr>\n",
       "    <tr>\n",
       "      <th>49996</th>\n",
       "      <td>8.305014</td>\n",
       "      <td>166.743953</td>\n",
       "      <td>9896.311236</td>\n",
       "      <td>10.599467</td>\n",
       "      <td>399.972775</td>\n",
       "      <td>459.829134</td>\n",
       "      <td>6.452487</td>\n",
       "      <td>83.280370</td>\n",
       "      <td>2.161414</td>\n",
       "      <td>1</td>\n",
       "    </tr>\n",
       "    <tr>\n",
       "      <th>49997</th>\n",
       "      <td>10.493744</td>\n",
       "      <td>205.923437</td>\n",
       "      <td>26288.922642</td>\n",
       "      <td>7.785306</td>\n",
       "      <td>403.434237</td>\n",
       "      <td>329.317811</td>\n",
       "      <td>19.257011</td>\n",
       "      <td>48.972378</td>\n",
       "      <td>5.739600</td>\n",
       "      <td>1</td>\n",
       "    </tr>\n",
       "    <tr>\n",
       "      <th>49998</th>\n",
       "      <td>8.783168</td>\n",
       "      <td>218.032840</td>\n",
       "      <td>16183.586649</td>\n",
       "      <td>7.390474</td>\n",
       "      <td>334.053885</td>\n",
       "      <td>389.021616</td>\n",
       "      <td>16.354520</td>\n",
       "      <td>47.100982</td>\n",
       "      <td>4.274137</td>\n",
       "      <td>0</td>\n",
       "    </tr>\n",
       "    <tr>\n",
       "      <th>49999</th>\n",
       "      <td>5.423966</td>\n",
       "      <td>180.247383</td>\n",
       "      <td>22774.189486</td>\n",
       "      <td>3.406198</td>\n",
       "      <td>355.492551</td>\n",
       "      <td>380.425769</td>\n",
       "      <td>13.088682</td>\n",
       "      <td>37.935514</td>\n",
       "      <td>5.709118</td>\n",
       "      <td>0</td>\n",
       "    </tr>\n",
       "  </tbody>\n",
       "</table>\n",
       "</div>"
      ],
      "text/plain": [
       "              ph    Hardness        Solids  Chloramines     Sulfate  \\\n",
       "49995   3.442510  164.693243  35463.708597    10.653649  284.933446   \n",
       "49996   8.305014  166.743953   9896.311236    10.599467  399.972775   \n",
       "49997  10.493744  205.923437  26288.922642     7.785306  403.434237   \n",
       "49998   8.783168  218.032840  16183.586649     7.390474  334.053885   \n",
       "49999   5.423966  180.247383  22774.189486     3.406198  355.492551   \n",
       "\n",
       "       Conductivity  Organic_carbon  Trihalomethanes  Turbidity  Potability  \n",
       "49995    269.422947       16.794680        82.295338   5.709118           0  \n",
       "49996    459.829134        6.452487        83.280370   2.161414           1  \n",
       "49997    329.317811       19.257011        48.972378   5.739600           1  \n",
       "49998    389.021616       16.354520        47.100982   4.274137           0  \n",
       "49999    380.425769       13.088682        37.935514   5.709118           0  "
      ]
     },
     "execution_count": 6,
     "metadata": {},
     "output_type": "execute_result"
    }
   ],
   "source": [
    "df.tail()"
   ]
  },
  {
   "cell_type": "markdown",
   "id": "cda247af-83ed-46f3-87d0-242c81cddf1e",
   "metadata": {},
   "source": [
    "Entendimento\n",
    "* Potabilidade = 0, Água Potável Insegura\n",
    "* Potabilidade = 1, Água Potável Segura"
   ]
  },
  {
   "cell_type": "code",
   "execution_count": 7,
   "id": "6763d736-eb4c-40a0-8e26-587498d9e3d4",
   "metadata": {},
   "outputs": [
    {
     "data": {
      "application/vnd.microsoft.datawrangler.viewer.v0+json": {
       "columns": [
        {
         "name": "index",
         "rawType": "object",
         "type": "string"
        },
        {
         "name": "ph",
         "rawType": "float64",
         "type": "float"
        },
        {
         "name": "Hardness",
         "rawType": "float64",
         "type": "float"
        },
        {
         "name": "Solids",
         "rawType": "float64",
         "type": "float"
        },
        {
         "name": "Chloramines",
         "rawType": "float64",
         "type": "float"
        },
        {
         "name": "Sulfate",
         "rawType": "float64",
         "type": "float"
        },
        {
         "name": "Conductivity",
         "rawType": "float64",
         "type": "float"
        },
        {
         "name": "Organic_carbon",
         "rawType": "float64",
         "type": "float"
        },
        {
         "name": "Trihalomethanes",
         "rawType": "float64",
         "type": "float"
        },
        {
         "name": "Turbidity",
         "rawType": "float64",
         "type": "float"
        },
        {
         "name": "Potability",
         "rawType": "float64",
         "type": "float"
        }
       ],
       "ref": "db489316-be89-44ad-a9f8-99b966921963",
       "rows": [
        [
         "count",
         "50000.0",
         "50000.0",
         "50000.0",
         "50000.0",
         "50000.0",
         "50000.0",
         "50000.0",
         "50000.0",
         "50000.0",
         "50000.0"
        ],
        [
         "mean",
         "7.093382038343325",
         "196.348959533194",
         "22077.020484024335",
         "7.071627741133924",
         "333.80295870470104",
         "426.80793724143496",
         "14.235886060884274",
         "66.52004698884436",
         "3.9465626770150855",
         "0.3901"
        ],
        [
         "std",
         "3.0851236388990726",
         "32.76191311393456",
         "8419.216686784173",
         "3.2155497276128644",
         "35.39274985912615",
         "77.54373088950126",
         "5.689393994339915",
         "17.02618461721239",
         "1.628012481757673",
         "0.487777355496307"
        ],
        [
         "min",
         "3.442510338283572",
         "114.23636579883768",
         "5416.238724468493",
         "3.2030819022911725",
         "237.13695691301783",
         "269.4229472311401",
         "6.452487037954768",
         "28.52499261378618",
         "2.1614141449375825",
         "0.0"
        ],
        [
         "25%",
         "3.6755670488129466",
         "174.17949557653424",
         "16144.860895268304",
         "3.3308693302146195",
         "310.46912931798283",
         "371.8355285326181",
         "8.4927845633237",
         "54.767586827687104",
         "2.199628306137884",
         "0.0"
        ],
        [
         "50%",
         "7.036752103833548",
         "196.3777403492343",
         "21891.102959655876",
         "7.145098228133669",
         "333.38942610169323",
         "426.1044568689291",
         "14.196323837419158",
         "66.57591273564023",
         "3.9294555977144503",
         "0.0"
        ],
        [
         "75%",
         "10.493743809069404",
         "218.7452128217484",
         "27791.54565989147",
         "10.653648989685172",
         "357.2273775184505",
         "480.39148955800164",
         "20.03904938923266",
         "78.33016875018663",
         "5.709117717885048",
         "1.0"
        ],
        [
         "max",
         "10.812924894406173",
         "278.062602333034",
         "45974.10648980326",
         "10.967152881398318",
         "429.0281388090126",
         "617.6265581538769",
         "22.090048927593102",
         "104.60629940595828",
         "5.741639726505603",
         "1.0"
        ]
       ],
       "shape": {
        "columns": 10,
        "rows": 8
       }
      },
      "text/html": [
       "<div>\n",
       "<style scoped>\n",
       "    .dataframe tbody tr th:only-of-type {\n",
       "        vertical-align: middle;\n",
       "    }\n",
       "\n",
       "    .dataframe tbody tr th {\n",
       "        vertical-align: top;\n",
       "    }\n",
       "\n",
       "    .dataframe thead th {\n",
       "        text-align: right;\n",
       "    }\n",
       "</style>\n",
       "<table border=\"1\" class=\"dataframe\">\n",
       "  <thead>\n",
       "    <tr style=\"text-align: right;\">\n",
       "      <th></th>\n",
       "      <th>ph</th>\n",
       "      <th>Hardness</th>\n",
       "      <th>Solids</th>\n",
       "      <th>Chloramines</th>\n",
       "      <th>Sulfate</th>\n",
       "      <th>Conductivity</th>\n",
       "      <th>Organic_carbon</th>\n",
       "      <th>Trihalomethanes</th>\n",
       "      <th>Turbidity</th>\n",
       "      <th>Potability</th>\n",
       "    </tr>\n",
       "  </thead>\n",
       "  <tbody>\n",
       "    <tr>\n",
       "      <th>count</th>\n",
       "      <td>50000.000000</td>\n",
       "      <td>50000.000000</td>\n",
       "      <td>50000.000000</td>\n",
       "      <td>50000.000000</td>\n",
       "      <td>50000.000000</td>\n",
       "      <td>50000.000000</td>\n",
       "      <td>50000.000000</td>\n",
       "      <td>50000.000000</td>\n",
       "      <td>50000.000000</td>\n",
       "      <td>50000.000000</td>\n",
       "    </tr>\n",
       "    <tr>\n",
       "      <th>mean</th>\n",
       "      <td>7.093382</td>\n",
       "      <td>196.348960</td>\n",
       "      <td>22077.020484</td>\n",
       "      <td>7.071628</td>\n",
       "      <td>333.802959</td>\n",
       "      <td>426.807937</td>\n",
       "      <td>14.235886</td>\n",
       "      <td>66.520047</td>\n",
       "      <td>3.946563</td>\n",
       "      <td>0.390100</td>\n",
       "    </tr>\n",
       "    <tr>\n",
       "      <th>std</th>\n",
       "      <td>3.085124</td>\n",
       "      <td>32.761913</td>\n",
       "      <td>8419.216687</td>\n",
       "      <td>3.215550</td>\n",
       "      <td>35.392750</td>\n",
       "      <td>77.543731</td>\n",
       "      <td>5.689394</td>\n",
       "      <td>17.026185</td>\n",
       "      <td>1.628012</td>\n",
       "      <td>0.487777</td>\n",
       "    </tr>\n",
       "    <tr>\n",
       "      <th>min</th>\n",
       "      <td>3.442510</td>\n",
       "      <td>114.236366</td>\n",
       "      <td>5416.238724</td>\n",
       "      <td>3.203082</td>\n",
       "      <td>237.136957</td>\n",
       "      <td>269.422947</td>\n",
       "      <td>6.452487</td>\n",
       "      <td>28.524993</td>\n",
       "      <td>2.161414</td>\n",
       "      <td>0.000000</td>\n",
       "    </tr>\n",
       "    <tr>\n",
       "      <th>25%</th>\n",
       "      <td>3.675567</td>\n",
       "      <td>174.179496</td>\n",
       "      <td>16144.860895</td>\n",
       "      <td>3.330869</td>\n",
       "      <td>310.469129</td>\n",
       "      <td>371.835529</td>\n",
       "      <td>8.492785</td>\n",
       "      <td>54.767587</td>\n",
       "      <td>2.199628</td>\n",
       "      <td>0.000000</td>\n",
       "    </tr>\n",
       "    <tr>\n",
       "      <th>50%</th>\n",
       "      <td>7.036752</td>\n",
       "      <td>196.377740</td>\n",
       "      <td>21891.102960</td>\n",
       "      <td>7.145098</td>\n",
       "      <td>333.389426</td>\n",
       "      <td>426.104457</td>\n",
       "      <td>14.196324</td>\n",
       "      <td>66.575913</td>\n",
       "      <td>3.929456</td>\n",
       "      <td>0.000000</td>\n",
       "    </tr>\n",
       "    <tr>\n",
       "      <th>75%</th>\n",
       "      <td>10.493744</td>\n",
       "      <td>218.745213</td>\n",
       "      <td>27791.545660</td>\n",
       "      <td>10.653649</td>\n",
       "      <td>357.227378</td>\n",
       "      <td>480.391490</td>\n",
       "      <td>20.039049</td>\n",
       "      <td>78.330169</td>\n",
       "      <td>5.709118</td>\n",
       "      <td>1.000000</td>\n",
       "    </tr>\n",
       "    <tr>\n",
       "      <th>max</th>\n",
       "      <td>10.812925</td>\n",
       "      <td>278.062602</td>\n",
       "      <td>45974.106490</td>\n",
       "      <td>10.967153</td>\n",
       "      <td>429.028139</td>\n",
       "      <td>617.626558</td>\n",
       "      <td>22.090049</td>\n",
       "      <td>104.606299</td>\n",
       "      <td>5.741640</td>\n",
       "      <td>1.000000</td>\n",
       "    </tr>\n",
       "  </tbody>\n",
       "</table>\n",
       "</div>"
      ],
      "text/plain": [
       "                 ph      Hardness        Solids   Chloramines       Sulfate  \\\n",
       "count  50000.000000  50000.000000  50000.000000  50000.000000  50000.000000   \n",
       "mean       7.093382    196.348960  22077.020484      7.071628    333.802959   \n",
       "std        3.085124     32.761913   8419.216687      3.215550     35.392750   \n",
       "min        3.442510    114.236366   5416.238724      3.203082    237.136957   \n",
       "25%        3.675567    174.179496  16144.860895      3.330869    310.469129   \n",
       "50%        7.036752    196.377740  21891.102960      7.145098    333.389426   \n",
       "75%       10.493744    218.745213  27791.545660     10.653649    357.227378   \n",
       "max       10.812925    278.062602  45974.106490     10.967153    429.028139   \n",
       "\n",
       "       Conductivity  Organic_carbon  Trihalomethanes     Turbidity  \\\n",
       "count  50000.000000    50000.000000     50000.000000  50000.000000   \n",
       "mean     426.807937       14.235886        66.520047      3.946563   \n",
       "std       77.543731        5.689394        17.026185      1.628012   \n",
       "min      269.422947        6.452487        28.524993      2.161414   \n",
       "25%      371.835529        8.492785        54.767587      2.199628   \n",
       "50%      426.104457       14.196324        66.575913      3.929456   \n",
       "75%      480.391490       20.039049        78.330169      5.709118   \n",
       "max      617.626558       22.090049       104.606299      5.741640   \n",
       "\n",
       "         Potability  \n",
       "count  50000.000000  \n",
       "mean       0.390100  \n",
       "std        0.487777  \n",
       "min        0.000000  \n",
       "25%        0.000000  \n",
       "50%        0.000000  \n",
       "75%        1.000000  \n",
       "max        1.000000  "
      ]
     },
     "execution_count": 7,
     "metadata": {},
     "output_type": "execute_result"
    }
   ],
   "source": [
    "df.describe()"
   ]
  },
  {
   "cell_type": "code",
   "execution_count": 8,
   "id": "d2a42abd-194a-41db-bd12-de141163f141",
   "metadata": {},
   "outputs": [
    {
     "name": "stdout",
     "output_type": "stream",
     "text": [
      "ph                 0.0\n",
      "Hardness           0.0\n",
      "Solids             0.0\n",
      "Chloramines        0.0\n",
      "Sulfate            0.0\n",
      "Conductivity       0.0\n",
      "Organic_carbon     0.0\n",
      "Trihalomethanes    0.0\n",
      "Turbidity          0.0\n",
      "Potability         0.0\n",
      "dtype: float64\n"
     ]
    }
   ],
   "source": [
    "# Calculando a porcentagem de valores ausentes em cada coluna\n",
    "porcentagem_vazios = df.isna().sum() / len(df) * 100\n",
    "print(porcentagem_vazios)"
   ]
  },
  {
   "cell_type": "markdown",
   "id": "5aaabd10-d882-46dd-ac17-0a99cd7764fc",
   "metadata": {},
   "source": [
    "#### Com base nas informações apresentadas na no gráfico abaixo, é evidente que não existem alguns valores nulos ou ausentes. O comando a seguir pode ser usado para determinar a contagem de valores ausentes em cada coluna respectiva.\n"
   ]
  },
  {
   "cell_type": "code",
   "execution_count": 9,
   "id": "3dafac1e-8831-45b8-9e8b-976a1b2ba328",
   "metadata": {},
   "outputs": [
    {
     "data": {
      "text/plain": [
       "<Axes: >"
      ]
     },
     "execution_count": 9,
     "metadata": {},
     "output_type": "execute_result"
    },
    {
     "data": {
      "image/png": "[encoded data removed]",
      "text/plain": [
       "<Figure size 640x480 with 2 Axes>"
      ]
     },
     "metadata": {},
     "output_type": "display_data"
    }
   ],
   "source": [
    "#Criando um mapa de calor para visualizar a distribuição de valores ausentes nas colunas do df transposto valores entre colunas no df transposto\n",
    "sns.heatmap(df.isna().transpose())"
   ]
  },
  {
   "cell_type": "code",
   "execution_count": 10,
   "id": "85b12b16-8218-4d33-94f3-4c386ddf5c65",
   "metadata": {},
   "outputs": [
    {
     "name": "stdout",
     "output_type": "stream",
     "text": [
      "ph                 0.010482\n",
      "Hardness          -0.006077\n",
      "Solids             0.170529\n",
      "Chloramines       -0.020152\n",
      "Sulfate            0.000468\n",
      "Conductivity       0.094854\n",
      "Organic_carbon     0.005333\n",
      "Trihalomethanes   -0.012402\n",
      "Turbidity          0.006859\n",
      "Potability         0.450633\n",
      "dtype: float64\n"
     ]
    }
   ],
   "source": [
    "#Calculando a assimetria para cada coluna no df\n",
    "skew_values = df.skew()\n",
    "print(skew_values)"
   ]
  },
  {
   "cell_type": "markdown",
   "id": "ee3e664e-fb2a-446d-aaa3-35e4aa3ebf2a",
   "metadata": {},
   "source": [
    "## Alvinho\n",
    "#### 0 - não ta legal\n",
    "#### 1 - tá legal\n"
   ]
  },
  {
   "cell_type": "code",
   "execution_count": 11,
   "id": "cdea076b-b823-4f9d-8f25-e8e735fa31a9",
   "metadata": {},
   "outputs": [
    {
     "data": {
      "application/vnd.microsoft.datawrangler.viewer.v0+json": {
       "columns": [
        {
         "name": "Potability",
         "rawType": "int64",
         "type": "integer"
        },
        {
         "name": "count",
         "rawType": "int64",
         "type": "integer"
        }
       ],
       "ref": "3d5a9f88-44c8-4cc6-919c-d7873db58130",
       "rows": [
        [
         "0",
         "30495"
        ],
        [
         "1",
         "19505"
        ]
       ],
       "shape": {
        "columns": 1,
        "rows": 2
       }
      },
      "text/plain": [
       "Potability\n",
       "0    30495\n",
       "1    19505\n",
       "Name: count, dtype: int64"
      ]
     },
     "execution_count": 11,
     "metadata": {},
     "output_type": "execute_result"
    }
   ],
   "source": [
    "# vendo a distribuição da nossa vriavel target\n",
    "df[\"Potability\"].value_counts()"
   ]
  },
  {
   "cell_type": "code",
   "execution_count": 12,
   "id": "557efdba-c276-47db-9f6a-41680b3ce97c",
   "metadata": {},
   "outputs": [
    {
     "data": {
      "image/png": "[encoded data removed]",
      "text/plain": [
       "<Figure size 700x300 with 1 Axes>"
      ]
     },
     "metadata": {},
     "output_type": "display_data"
    }
   ],
   "source": [
    "# diferença olhando para um gráfico\n",
    "plt.figure(figsize = (7,3))\n",
    "sns.countplot(x = \"Potability\", data = df)\n",
    "plt.xlabel(\"Potability\")\n",
    "plt.ylabel(\"Count\")\n",
    "plt.title(\"Potability Distribution\")\n",
    "plt.show()"
   ]
  },
  {
   "cell_type": "code",
   "execution_count": 13,
   "id": "fb5e95ee-29fd-47e8-aa9e-0315051641f9",
   "metadata": {},
   "outputs": [
    {
     "data": {
      "application/vnd.microsoft.datawrangler.viewer.v0+json": {
       "columns": [
        {
         "name": "Potability",
         "rawType": "int64",
         "type": "integer"
        },
        {
         "name": "ph",
         "rawType": "float64",
         "type": "float"
        },
        {
         "name": "Hardness",
         "rawType": "float64",
         "type": "float"
        },
        {
         "name": "Solids",
         "rawType": "float64",
         "type": "float"
        },
        {
         "name": "Chloramines",
         "rawType": "float64",
         "type": "float"
        },
        {
         "name": "Sulfate",
         "rawType": "float64",
         "type": "float"
        },
        {
         "name": "Conductivity",
         "rawType": "float64",
         "type": "float"
        },
        {
         "name": "Organic_carbon",
         "rawType": "float64",
         "type": "float"
        },
        {
         "name": "Trihalomethanes",
         "rawType": "float64",
         "type": "float"
        },
        {
         "name": "Turbidity",
         "rawType": "float64",
         "type": "float"
        }
       ],
       "ref": "8e6debad-dd8b-4112-b3b1-3ac905bc05ca",
       "rows": [
        [
         "0",
         "7.095493362387491",
         "196.61247394980248",
         "21864.579680447176",
         "7.026112928237935",
         "334.47865186334985",
         "427.421840037564",
         "14.337627446631277",
         "66.38810138808404",
         "3.955481188193807"
        ],
        [
         "1",
         "7.090081098752102",
         "195.93696916485388",
         "22409.16005362626",
         "7.142787660091276",
         "332.7465494315406",
         "425.848133818315",
         "14.076818972529752",
         "66.7263367143089",
         "3.9326190728933166"
        ]
       ],
       "shape": {
        "columns": 9,
        "rows": 2
       }
      },
      "text/html": [
       "<div>\n",
       "<style scoped>\n",
       "    .dataframe tbody tr th:only-of-type {\n",
       "        vertical-align: middle;\n",
       "    }\n",
       "\n",
       "    .dataframe tbody tr th {\n",
       "        vertical-align: top;\n",
       "    }\n",
       "\n",
       "    .dataframe thead th {\n",
       "        text-align: right;\n",
       "    }\n",
       "</style>\n",
       "<table border=\"1\" class=\"dataframe\">\n",
       "  <thead>\n",
       "    <tr style=\"text-align: right;\">\n",
       "      <th></th>\n",
       "      <th>ph</th>\n",
       "      <th>Hardness</th>\n",
       "      <th>Solids</th>\n",
       "      <th>Chloramines</th>\n",
       "      <th>Sulfate</th>\n",
       "      <th>Conductivity</th>\n",
       "      <th>Organic_carbon</th>\n",
       "      <th>Trihalomethanes</th>\n",
       "      <th>Turbidity</th>\n",
       "    </tr>\n",
       "    <tr>\n",
       "      <th>Potability</th>\n",
       "      <th></th>\n",
       "      <th></th>\n",
       "      <th></th>\n",
       "      <th></th>\n",
       "      <th></th>\n",
       "      <th></th>\n",
       "      <th></th>\n",
       "      <th></th>\n",
       "      <th></th>\n",
       "    </tr>\n",
       "  </thead>\n",
       "  <tbody>\n",
       "    <tr>\n",
       "      <th>0</th>\n",
       "      <td>7.095493</td>\n",
       "      <td>196.612474</td>\n",
       "      <td>21864.579680</td>\n",
       "      <td>7.026113</td>\n",
       "      <td>334.478652</td>\n",
       "      <td>427.421840</td>\n",
       "      <td>14.337627</td>\n",
       "      <td>66.388101</td>\n",
       "      <td>3.955481</td>\n",
       "    </tr>\n",
       "    <tr>\n",
       "      <th>1</th>\n",
       "      <td>7.090081</td>\n",
       "      <td>195.936969</td>\n",
       "      <td>22409.160054</td>\n",
       "      <td>7.142788</td>\n",
       "      <td>332.746549</td>\n",
       "      <td>425.848134</td>\n",
       "      <td>14.076819</td>\n",
       "      <td>66.726337</td>\n",
       "      <td>3.932619</td>\n",
       "    </tr>\n",
       "  </tbody>\n",
       "</table>\n",
       "</div>"
      ],
      "text/plain": [
       "                  ph    Hardness        Solids  Chloramines     Sulfate  \\\n",
       "Potability                                                                \n",
       "0           7.095493  196.612474  21864.579680     7.026113  334.478652   \n",
       "1           7.090081  195.936969  22409.160054     7.142788  332.746549   \n",
       "\n",
       "            Conductivity  Organic_carbon  Trihalomethanes  Turbidity  \n",
       "Potability                                                            \n",
       "0             427.421840       14.337627        66.388101   3.955481  \n",
       "1             425.848134       14.076819        66.726337   3.932619  "
      ]
     },
     "execution_count": 13,
     "metadata": {},
     "output_type": "execute_result"
    }
   ],
   "source": [
    "# Agrupando pela target e vendo quais o valores médios refente a todas as outras colunas\n",
    "df.groupby(\"Potability\").mean()"
   ]
  },
  {
   "cell_type": "markdown",
   "id": "4d9a7179-497f-4bea-86dd-91e436d648ef",
   "metadata": {},
   "source": [
    "#### relações entre variáveis para determinar​​ quais pares de colunas têm conexões mais fortes e mais fracas em termos de associação linear.\n"
   ]
  },
  {
   "cell_type": "code",
   "execution_count": 14,
   "id": "7ec6d1d0-e6f3-4b55-a5d2-d77759adbedf",
   "metadata": {},
   "outputs": [
    {
     "data": {
      "application/vnd.microsoft.datawrangler.viewer.v0+json": {
       "columns": [
        {
         "name": "index",
         "rawType": "object",
         "type": "string"
        },
        {
         "name": "ph",
         "rawType": "float64",
         "type": "float"
        },
        {
         "name": "Hardness",
         "rawType": "float64",
         "type": "float"
        },
        {
         "name": "Solids",
         "rawType": "float64",
         "type": "float"
        },
        {
         "name": "Chloramines",
         "rawType": "float64",
         "type": "float"
        },
        {
         "name": "Sulfate",
         "rawType": "float64",
         "type": "float"
        },
        {
         "name": "Conductivity",
         "rawType": "float64",
         "type": "float"
        },
        {
         "name": "Organic_carbon",
         "rawType": "float64",
         "type": "float"
        },
        {
         "name": "Trihalomethanes",
         "rawType": "float64",
         "type": "float"
        },
        {
         "name": "Turbidity",
         "rawType": "float64",
         "type": "float"
        },
        {
         "name": "Potability",
         "rawType": "float64",
         "type": "float"
        }
       ],
       "ref": "cce54665-314e-4149-a08b-086c70b2f87f",
       "rows": [
        [
         "ph",
         "1.0",
         "0.01871188495716299",
         "-0.014666407964338848",
         "-0.002306140648161098",
         "-0.002623892814998755",
         "0.003596030552940966",
         "0.004615178762508169",
         "0.001389157377875244",
         "-0.0014831391704117204",
         "-0.0008557127533016416"
        ],
        [
         "Hardness",
         "0.01871188495716299",
         "1.0",
         "-0.05034823039758537",
         "-0.00529071277153698",
         "-0.07824784877151825",
         "-0.02198220986866545",
         "0.004234363123707619",
         "-0.009321359901127618",
         "0.004685889977366518",
         "-0.010057286229942005"
        ],
        [
         "Solids",
         "-0.014666407964338848",
         "-0.05034823039758537",
         "1.0",
         "-0.010690051302764908",
         "-0.1353711665683957",
         "0.015153419126060389",
         "0.0031596280308356334",
         "-0.011328025534679544",
         "0.006315678039862155",
         "0.03155091312728101"
        ],
        [
         "Chloramines",
         "-0.002306140648161098",
         "-0.00529071277153698",
         "-0.010690051302764908",
         "1.0",
         "0.003530671978889216",
         "-0.006901055584031791",
         "-0.0012331402321113295",
         "-0.00617713007337173",
         "0.005017529457624053",
         "0.017698775319177552"
        ],
        [
         "Sulfate",
         "-0.002623892814998755",
         "-0.07824784877151825",
         "-0.1353711665683957",
         "0.003530671978889216",
         "1.0",
         "-0.016090333361731577",
         "0.010716706198150438",
         "-0.018588397460944057",
         "0.014661918605449641",
         "-0.023871565419458902"
        ],
        [
         "Conductivity",
         "0.003596030552940966",
         "-0.02198220986866545",
         "0.015153419126060389",
         "-0.006901055584031791",
         "-0.016090333361731577",
         "1.0",
         "0.002543085568252027",
         "-0.0027619170849631077",
         "0.0017057497193606447",
         "-0.009899165917709273"
        ],
        [
         "Organic_carbon",
         "0.004615178762508169",
         "0.004234363123707619",
         "0.0031596280308356334",
         "-0.0012331402321113295",
         "0.010716706198150438",
         "0.002543085568252027",
         "1.0",
         "-0.009538070663993764",
         "-0.001837737628544607",
         "-0.022360284401964414"
        ],
        [
         "Trihalomethanes",
         "0.001389157377875244",
         "-0.009321359901127618",
         "-0.011328025534679544",
         "-0.00617713007337173",
         "-0.018588397460944057",
         "-0.0027619170849631077",
         "-0.009538070663993764",
         "1.0",
         "-0.0038495303028765727",
         "0.009689988489529412"
        ],
        [
         "Turbidity",
         "-0.0014831391704117204",
         "0.004685889977366518",
         "0.006315678039862155",
         "0.005017529457624053",
         "0.014661918605449641",
         "0.0017057497193606447",
         "-0.001837737628544607",
         "-0.0038495303028765727",
         "1.0",
         "-0.006849838233601988"
        ],
        [
         "Potability",
         "-0.0008557127533016416",
         "-0.010057286229942005",
         "0.03155091312728101",
         "0.017698775319177552",
         "-0.023871565419458902",
         "-0.009899165917709273",
         "-0.022360284401964414",
         "0.009689988489529412",
         "-0.006849838233601988",
         "1.0"
        ]
       ],
       "shape": {
        "columns": 10,
        "rows": 10
       }
      },
      "text/html": [
       "<div>\n",
       "<style scoped>\n",
       "    .dataframe tbody tr th:only-of-type {\n",
       "        vertical-align: middle;\n",
       "    }\n",
       "\n",
       "    .dataframe tbody tr th {\n",
       "        vertical-align: top;\n",
       "    }\n",
       "\n",
       "    .dataframe thead th {\n",
       "        text-align: right;\n",
       "    }\n",
       "</style>\n",
       "<table border=\"1\" class=\"dataframe\">\n",
       "  <thead>\n",
       "    <tr style=\"text-align: right;\">\n",
       "      <th></th>\n",
       "      <th>ph</th>\n",
       "      <th>Hardness</th>\n",
       "      <th>Solids</th>\n",
       "      <th>Chloramines</th>\n",
       "      <th>Sulfate</th>\n",
       "      <th>Conductivity</th>\n",
       "      <th>Organic_carbon</th>\n",
       "      <th>Trihalomethanes</th>\n",
       "      <th>Turbidity</th>\n",
       "      <th>Potability</th>\n",
       "    </tr>\n",
       "  </thead>\n",
       "  <tbody>\n",
       "    <tr>\n",
       "      <th>ph</th>\n",
       "      <td>1.000000</td>\n",
       "      <td>0.018712</td>\n",
       "      <td>-0.014666</td>\n",
       "      <td>-0.002306</td>\n",
       "      <td>-0.002624</td>\n",
       "      <td>0.003596</td>\n",
       "      <td>0.004615</td>\n",
       "      <td>0.001389</td>\n",
       "      <td>-0.001483</td>\n",
       "      <td>-0.000856</td>\n",
       "    </tr>\n",
       "    <tr>\n",
       "      <th>Hardness</th>\n",
       "      <td>0.018712</td>\n",
       "      <td>1.000000</td>\n",
       "      <td>-0.050348</td>\n",
       "      <td>-0.005291</td>\n",
       "      <td>-0.078248</td>\n",
       "      <td>-0.021982</td>\n",
       "      <td>0.004234</td>\n",
       "      <td>-0.009321</td>\n",
       "      <td>0.004686</td>\n",
       "      <td>-0.010057</td>\n",
       "    </tr>\n",
       "    <tr>\n",
       "      <th>Solids</th>\n",
       "      <td>-0.014666</td>\n",
       "      <td>-0.050348</td>\n",
       "      <td>1.000000</td>\n",
       "      <td>-0.010690</td>\n",
       "      <td>-0.135371</td>\n",
       "      <td>0.015153</td>\n",
       "      <td>0.003160</td>\n",
       "      <td>-0.011328</td>\n",
       "      <td>0.006316</td>\n",
       "      <td>0.031551</td>\n",
       "    </tr>\n",
       "    <tr>\n",
       "      <th>Chloramines</th>\n",
       "      <td>-0.002306</td>\n",
       "      <td>-0.005291</td>\n",
       "      <td>-0.010690</td>\n",
       "      <td>1.000000</td>\n",
       "      <td>0.003531</td>\n",
       "      <td>-0.006901</td>\n",
       "      <td>-0.001233</td>\n",
       "      <td>-0.006177</td>\n",
       "      <td>0.005018</td>\n",
       "      <td>0.017699</td>\n",
       "    </tr>\n",
       "    <tr>\n",
       "      <th>Sulfate</th>\n",
       "      <td>-0.002624</td>\n",
       "      <td>-0.078248</td>\n",
       "      <td>-0.135371</td>\n",
       "      <td>0.003531</td>\n",
       "      <td>1.000000</td>\n",
       "      <td>-0.016090</td>\n",
       "      <td>0.010717</td>\n",
       "      <td>-0.018588</td>\n",
       "      <td>0.014662</td>\n",
       "      <td>-0.023872</td>\n",
       "    </tr>\n",
       "    <tr>\n",
       "      <th>Conductivity</th>\n",
       "      <td>0.003596</td>\n",
       "      <td>-0.021982</td>\n",
       "      <td>0.015153</td>\n",
       "      <td>-0.006901</td>\n",
       "      <td>-0.016090</td>\n",
       "      <td>1.000000</td>\n",
       "      <td>0.002543</td>\n",
       "      <td>-0.002762</td>\n",
       "      <td>0.001706</td>\n",
       "      <td>-0.009899</td>\n",
       "    </tr>\n",
       "    <tr>\n",
       "      <th>Organic_carbon</th>\n",
       "      <td>0.004615</td>\n",
       "      <td>0.004234</td>\n",
       "      <td>0.003160</td>\n",
       "      <td>-0.001233</td>\n",
       "      <td>0.010717</td>\n",
       "      <td>0.002543</td>\n",
       "      <td>1.000000</td>\n",
       "      <td>-0.009538</td>\n",
       "      <td>-0.001838</td>\n",
       "      <td>-0.022360</td>\n",
       "    </tr>\n",
       "    <tr>\n",
       "      <th>Trihalomethanes</th>\n",
       "      <td>0.001389</td>\n",
       "      <td>-0.009321</td>\n",
       "      <td>-0.011328</td>\n",
       "      <td>-0.006177</td>\n",
       "      <td>-0.018588</td>\n",
       "      <td>-0.002762</td>\n",
       "      <td>-0.009538</td>\n",
       "      <td>1.000000</td>\n",
       "      <td>-0.003850</td>\n",
       "      <td>0.009690</td>\n",
       "    </tr>\n",
       "    <tr>\n",
       "      <th>Turbidity</th>\n",
       "      <td>-0.001483</td>\n",
       "      <td>0.004686</td>\n",
       "      <td>0.006316</td>\n",
       "      <td>0.005018</td>\n",
       "      <td>0.014662</td>\n",
       "      <td>0.001706</td>\n",
       "      <td>-0.001838</td>\n",
       "      <td>-0.003850</td>\n",
       "      <td>1.000000</td>\n",
       "      <td>-0.006850</td>\n",
       "    </tr>\n",
       "    <tr>\n",
       "      <th>Potability</th>\n",
       "      <td>-0.000856</td>\n",
       "      <td>-0.010057</td>\n",
       "      <td>0.031551</td>\n",
       "      <td>0.017699</td>\n",
       "      <td>-0.023872</td>\n",
       "      <td>-0.009899</td>\n",
       "      <td>-0.022360</td>\n",
       "      <td>0.009690</td>\n",
       "      <td>-0.006850</td>\n",
       "      <td>1.000000</td>\n",
       "    </tr>\n",
       "  </tbody>\n",
       "</table>\n",
       "</div>"
      ],
      "text/plain": [
       "                       ph  Hardness    Solids  Chloramines   Sulfate  \\\n",
       "ph               1.000000  0.018712 -0.014666    -0.002306 -0.002624   \n",
       "Hardness         0.018712  1.000000 -0.050348    -0.005291 -0.078248   \n",
       "Solids          -0.014666 -0.050348  1.000000    -0.010690 -0.135371   \n",
       "Chloramines     -0.002306 -0.005291 -0.010690     1.000000  0.003531   \n",
       "Sulfate         -0.002624 -0.078248 -0.135371     0.003531  1.000000   \n",
       "Conductivity     0.003596 -0.021982  0.015153    -0.006901 -0.016090   \n",
       "Organic_carbon   0.004615  0.004234  0.003160    -0.001233  0.010717   \n",
       "Trihalomethanes  0.001389 -0.009321 -0.011328    -0.006177 -0.018588   \n",
       "Turbidity       -0.001483  0.004686  0.006316     0.005018  0.014662   \n",
       "Potability      -0.000856 -0.010057  0.031551     0.017699 -0.023872   \n",
       "\n",
       "                 Conductivity  Organic_carbon  Trihalomethanes  Turbidity  \\\n",
       "ph                   0.003596        0.004615         0.001389  -0.001483   \n",
       "Hardness            -0.021982        0.004234        -0.009321   0.004686   \n",
       "Solids               0.015153        0.003160        -0.011328   0.006316   \n",
       "Chloramines         -0.006901       -0.001233        -0.006177   0.005018   \n",
       "Sulfate             -0.016090        0.010717        -0.018588   0.014662   \n",
       "Conductivity         1.000000        0.002543        -0.002762   0.001706   \n",
       "Organic_carbon       0.002543        1.000000        -0.009538  -0.001838   \n",
       "Trihalomethanes     -0.002762       -0.009538         1.000000  -0.003850   \n",
       "Turbidity            0.001706       -0.001838        -0.003850   1.000000   \n",
       "Potability          -0.009899       -0.022360         0.009690  -0.006850   \n",
       "\n",
       "                 Potability  \n",
       "ph                -0.000856  \n",
       "Hardness          -0.010057  \n",
       "Solids             0.031551  \n",
       "Chloramines        0.017699  \n",
       "Sulfate           -0.023872  \n",
       "Conductivity      -0.009899  \n",
       "Organic_carbon    -0.022360  \n",
       "Trihalomethanes    0.009690  \n",
       "Turbidity         -0.006850  \n",
       "Potability         1.000000  "
      ]
     },
     "execution_count": 14,
     "metadata": {},
     "output_type": "execute_result"
    }
   ],
   "source": [
    "df.corr()"
   ]
  },
  {
   "cell_type": "code",
   "execution_count": 15,
   "id": "b4861ea0-632f-401e-8236-d2b916861172",
   "metadata": {},
   "outputs": [
    {
     "data": {
      "image/png": "[encoded data removed]",
      "text/plain": [
       "<Figure size 1000x500 with 2 Axes>"
      ]
     },
     "metadata": {},
     "output_type": "display_data"
    }
   ],
   "source": [
    "plt.figure(figsize = (10,5))\n",
    "sns.heatmap(df.corr(), annot = True)\n",
    "plt.title(\"Correlation Matrix Heatmap\")\n",
    "plt.show()\n",
    "\n"
   ]
  },
  {
   "cell_type": "code",
   "execution_count": 16,
   "id": "de3d1633-842e-4468-ac0c-b8a291668d19",
   "metadata": {},
   "outputs": [
    {
     "data": {
      "image/png": "[encoded data removed]",
      "text/plain": [
       "<Figure size 1000x1000 with 12 Axes>"
      ]
     },
     "metadata": {},
     "output_type": "display_data"
    }
   ],
   "source": [
    "df.hist(figsize=(10,10))\n",
    "plt.show()"
   ]
  },
  {
   "cell_type": "markdown",
   "id": "93499cd6-0110-4bff-bc84-fb9c734c3251",
   "metadata": {},
   "source": [
    "## Dividindo a Variável Característica e a Variável-Alvo"
   ]
  },
  {
   "cell_type": "code",
   "execution_count": 17,
   "id": "553b7ce9-3e23-45ec-8428-8f9981b27196",
   "metadata": {},
   "outputs": [],
   "source": [
    "X = df.drop(['Potability'],axis=1)\n",
    "Y = df['Potability']\n",
    "X_train , X_test , y_train , y_test = train_test_split(X , Y, test_size=0.25, random_state=42)"
   ]
  },
  {
   "cell_type": "code",
   "execution_count": 18,
   "id": "8af9497f",
   "metadata": {},
   "outputs": [
    {
     "data": {
      "text/html": [
       "<style type=\"text/css\">\n",
       "#T_accce_row0_col0, #T_accce_row0_col1, #T_accce_row0_col2, #T_accce_row0_col5, #T_accce_row1_col0, #T_accce_row2_col0, #T_accce_row3_col0, #T_accce_row3_col1, #T_accce_row3_col2, #T_accce_row3_col5, #T_accce_row4_col0, #T_accce_row5_col0, #T_accce_row6_col0, #T_accce_row6_col1, #T_accce_row6_col2, #T_accce_row6_col5, #T_accce_row7_col0, #T_accce_row7_col1, #T_accce_row7_col2, #T_accce_row7_col5, #T_accce_row8_col0, #T_accce_row8_col1, #T_accce_row8_col2, #T_accce_row8_col5, #T_accce_row9_col0, #T_accce_row9_col1, #T_accce_row9_col2, #T_accce_row9_col5 {\n",
       "  background-color: #fff7fb;\n",
       "  color: #000000;\n",
       "}\n",
       "#T_accce_row1_col1, #T_accce_row1_col5, #T_accce_row5_col2 {\n",
       "  background-color: #fef6fa;\n",
       "  color: #000000;\n",
       "}\n",
       "#T_accce_row1_col2, #T_accce_row4_col2 {\n",
       "  background-color: #fef6fb;\n",
       "  color: #000000;\n",
       "}\n",
       "#T_accce_row2_col1, #T_accce_row2_col2, #T_accce_row2_col5 {\n",
       "  background-color: #023858;\n",
       "  color: #f1f1f1;\n",
       "}\n",
       "#T_accce_row4_col1, #T_accce_row4_col5, #T_accce_row5_col1, #T_accce_row5_col5 {\n",
       "  background-color: #fdf5fa;\n",
       "  color: #000000;\n",
       "}\n",
       "</style>\n",
       "<table id=\"T_accce\">\n",
       "  <thead>\n",
       "    <tr>\n",
       "      <th class=\"blank level0\" >&nbsp;</th>\n",
       "      <th id=\"T_accce_level0_col0\" class=\"col_heading level0 col0\" >count</th>\n",
       "      <th id=\"T_accce_level0_col1\" class=\"col_heading level0 col1\" >mean</th>\n",
       "      <th id=\"T_accce_level0_col2\" class=\"col_heading level0 col2\" >std</th>\n",
       "      <th id=\"T_accce_level0_col3\" class=\"col_heading level0 col3\" >min</th>\n",
       "      <th id=\"T_accce_level0_col4\" class=\"col_heading level0 col4\" >25%</th>\n",
       "      <th id=\"T_accce_level0_col5\" class=\"col_heading level0 col5\" >50%</th>\n",
       "      <th id=\"T_accce_level0_col6\" class=\"col_heading level0 col6\" >75%</th>\n",
       "      <th id=\"T_accce_level0_col7\" class=\"col_heading level0 col7\" >max</th>\n",
       "    </tr>\n",
       "  </thead>\n",
       "  <tbody>\n",
       "    <tr>\n",
       "      <th id=\"T_accce_level0_row0\" class=\"row_heading level0 row0\" >ph</th>\n",
       "      <td id=\"T_accce_row0_col0\" class=\"data row0 col0\" >19505.000000</td>\n",
       "      <td id=\"T_accce_row0_col1\" class=\"data row0 col1\" >7.090081</td>\n",
       "      <td id=\"T_accce_row0_col2\" class=\"data row0 col2\" >2.970990</td>\n",
       "      <td id=\"T_accce_row0_col3\" class=\"data row0 col3\" >3.442510</td>\n",
       "      <td id=\"T_accce_row0_col4\" class=\"data row0 col4\" >3.675567</td>\n",
       "      <td id=\"T_accce_row0_col5\" class=\"data row0 col5\" >7.045156</td>\n",
       "      <td id=\"T_accce_row0_col6\" class=\"data row0 col6\" >10.493744</td>\n",
       "      <td id=\"T_accce_row0_col7\" class=\"data row0 col7\" >10.812925</td>\n",
       "    </tr>\n",
       "    <tr>\n",
       "      <th id=\"T_accce_level0_row1\" class=\"row_heading level0 row1\" >Hardness</th>\n",
       "      <td id=\"T_accce_row1_col0\" class=\"data row1 col0\" >19505.000000</td>\n",
       "      <td id=\"T_accce_row1_col1\" class=\"data row1 col1\" >195.936969</td>\n",
       "      <td id=\"T_accce_row1_col2\" class=\"data row1 col2\" >34.622885</td>\n",
       "      <td id=\"T_accce_row1_col3\" class=\"data row1 col3\" >114.236366</td>\n",
       "      <td id=\"T_accce_row1_col4\" class=\"data row1 col4\" >172.179237</td>\n",
       "      <td id=\"T_accce_row1_col5\" class=\"data row1 col5\" >195.793044</td>\n",
       "      <td id=\"T_accce_row1_col6\" class=\"data row1 col6\" >219.657294</td>\n",
       "      <td id=\"T_accce_row1_col7\" class=\"data row1 col7\" >278.062602</td>\n",
       "    </tr>\n",
       "    <tr>\n",
       "      <th id=\"T_accce_level0_row2\" class=\"row_heading level0 row2\" >Solids</th>\n",
       "      <td id=\"T_accce_row2_col0\" class=\"data row2 col0\" >19505.000000</td>\n",
       "      <td id=\"T_accce_row2_col1\" class=\"data row2 col1\" >22409.160054</td>\n",
       "      <td id=\"T_accce_row2_col2\" class=\"data row2 col2\" >8639.358883</td>\n",
       "      <td id=\"T_accce_row2_col3\" class=\"data row2 col3\" >5416.238724</td>\n",
       "      <td id=\"T_accce_row2_col4\" class=\"data row2 col4\" >16351.732593</td>\n",
       "      <td id=\"T_accce_row2_col5\" class=\"data row2 col5\" >22254.954700</td>\n",
       "      <td id=\"T_accce_row2_col6\" class=\"data row2 col6\" >28263.437876</td>\n",
       "      <td id=\"T_accce_row2_col7\" class=\"data row2 col7\" >45974.106490</td>\n",
       "    </tr>\n",
       "    <tr>\n",
       "      <th id=\"T_accce_level0_row3\" class=\"row_heading level0 row3\" >Chloramines</th>\n",
       "      <td id=\"T_accce_row3_col0\" class=\"data row3 col0\" >19505.000000</td>\n",
       "      <td id=\"T_accce_row3_col1\" class=\"data row3 col1\" >7.142788</td>\n",
       "      <td id=\"T_accce_row3_col2\" class=\"data row3 col2\" >3.326802</td>\n",
       "      <td id=\"T_accce_row3_col3\" class=\"data row3 col3\" >3.203082</td>\n",
       "      <td id=\"T_accce_row3_col4\" class=\"data row3 col4\" >3.203082</td>\n",
       "      <td id=\"T_accce_row3_col5\" class=\"data row3 col5\" >7.244541</td>\n",
       "      <td id=\"T_accce_row3_col6\" class=\"data row3 col6\" >10.967153</td>\n",
       "      <td id=\"T_accce_row3_col7\" class=\"data row3 col7\" >10.967153</td>\n",
       "    </tr>\n",
       "    <tr>\n",
       "      <th id=\"T_accce_level0_row4\" class=\"row_heading level0 row4\" >Sulfate</th>\n",
       "      <td id=\"T_accce_row4_col0\" class=\"data row4 col0\" >19505.000000</td>\n",
       "      <td id=\"T_accce_row4_col1\" class=\"data row4 col1\" >332.746549</td>\n",
       "      <td id=\"T_accce_row4_col2\" class=\"data row4 col2\" >39.980634</td>\n",
       "      <td id=\"T_accce_row4_col3\" class=\"data row4 col3\" >237.136957</td>\n",
       "      <td id=\"T_accce_row4_col4\" class=\"data row4 col4\" >305.716252</td>\n",
       "      <td id=\"T_accce_row4_col5\" class=\"data row4 col5\" >332.123444</td>\n",
       "      <td id=\"T_accce_row4_col6\" class=\"data row4 col6\" >359.706172</td>\n",
       "      <td id=\"T_accce_row4_col7\" class=\"data row4 col7\" >429.028139</td>\n",
       "    </tr>\n",
       "    <tr>\n",
       "      <th id=\"T_accce_level0_row5\" class=\"row_heading level0 row5\" >Conductivity</th>\n",
       "      <td id=\"T_accce_row5_col0\" class=\"data row5 col0\" >19505.000000</td>\n",
       "      <td id=\"T_accce_row5_col1\" class=\"data row5 col1\" >425.848134</td>\n",
       "      <td id=\"T_accce_row5_col2\" class=\"data row5 col2\" >78.430556</td>\n",
       "      <td id=\"T_accce_row5_col3\" class=\"data row5 col3\" >269.422947</td>\n",
       "      <td id=\"T_accce_row5_col4\" class=\"data row5 col4\" >369.692698</td>\n",
       "      <td id=\"T_accce_row5_col5\" class=\"data row5 col5\" >424.753954</td>\n",
       "      <td id=\"T_accce_row5_col6\" class=\"data row5 col6\" >480.493153</td>\n",
       "      <td id=\"T_accce_row5_col7\" class=\"data row5 col7\" >617.626558</td>\n",
       "    </tr>\n",
       "    <tr>\n",
       "      <th id=\"T_accce_level0_row6\" class=\"row_heading level0 row6\" >Organic_carbon</th>\n",
       "      <td id=\"T_accce_row6_col0\" class=\"data row6 col0\" >19505.000000</td>\n",
       "      <td id=\"T_accce_row6_col1\" class=\"data row6 col1\" >14.076819</td>\n",
       "      <td id=\"T_accce_row6_col2\" class=\"data row6 col2\" >5.683575</td>\n",
       "      <td id=\"T_accce_row6_col3\" class=\"data row6 col3\" >6.452487</td>\n",
       "      <td id=\"T_accce_row6_col4\" class=\"data row6 col4\" >8.256937</td>\n",
       "      <td id=\"T_accce_row6_col5\" class=\"data row6 col5\" >14.100680</td>\n",
       "      <td id=\"T_accce_row6_col6\" class=\"data row6 col6\" >20.136377</td>\n",
       "      <td id=\"T_accce_row6_col7\" class=\"data row6 col7\" >22.090049</td>\n",
       "    </tr>\n",
       "    <tr>\n",
       "      <th id=\"T_accce_level0_row7\" class=\"row_heading level0 row7\" >Trihalomethanes</th>\n",
       "      <td id=\"T_accce_row7_col0\" class=\"data row7 col0\" >19505.000000</td>\n",
       "      <td id=\"T_accce_row7_col1\" class=\"data row7 col1\" >66.726337</td>\n",
       "      <td id=\"T_accce_row7_col2\" class=\"data row7 col2\" >17.211963</td>\n",
       "      <td id=\"T_accce_row7_col3\" class=\"data row7 col3\" >28.524993</td>\n",
       "      <td id=\"T_accce_row7_col4\" class=\"data row7 col4\" >54.838703</td>\n",
       "      <td id=\"T_accce_row7_col5\" class=\"data row7 col5\" >66.750192</td>\n",
       "      <td id=\"T_accce_row7_col6\" class=\"data row7 col6\" >78.622845</td>\n",
       "      <td id=\"T_accce_row7_col7\" class=\"data row7 col7\" >104.606299</td>\n",
       "    </tr>\n",
       "    <tr>\n",
       "      <th id=\"T_accce_level0_row8\" class=\"row_heading level0 row8\" >Turbidity</th>\n",
       "      <td id=\"T_accce_row8_col0\" class=\"data row8 col0\" >19505.000000</td>\n",
       "      <td id=\"T_accce_row8_col1\" class=\"data row8 col1\" >3.932619</td>\n",
       "      <td id=\"T_accce_row8_col2\" class=\"data row8 col2\" >1.646900</td>\n",
       "      <td id=\"T_accce_row8_col3\" class=\"data row8 col3\" >2.161414</td>\n",
       "      <td id=\"T_accce_row8_col4\" class=\"data row8 col4\" >2.161414</td>\n",
       "      <td id=\"T_accce_row8_col5\" class=\"data row8 col5\" >3.891097</td>\n",
       "      <td id=\"T_accce_row8_col6\" class=\"data row8 col6\" >5.739600</td>\n",
       "      <td id=\"T_accce_row8_col7\" class=\"data row8 col7\" >5.741640</td>\n",
       "    </tr>\n",
       "    <tr>\n",
       "      <th id=\"T_accce_level0_row9\" class=\"row_heading level0 row9\" >Potability</th>\n",
       "      <td id=\"T_accce_row9_col0\" class=\"data row9 col0\" >19505.000000</td>\n",
       "      <td id=\"T_accce_row9_col1\" class=\"data row9 col1\" >1.000000</td>\n",
       "      <td id=\"T_accce_row9_col2\" class=\"data row9 col2\" >0.000000</td>\n",
       "      <td id=\"T_accce_row9_col3\" class=\"data row9 col3\" >1.000000</td>\n",
       "      <td id=\"T_accce_row9_col4\" class=\"data row9 col4\" >1.000000</td>\n",
       "      <td id=\"T_accce_row9_col5\" class=\"data row9 col5\" >1.000000</td>\n",
       "      <td id=\"T_accce_row9_col6\" class=\"data row9 col6\" >1.000000</td>\n",
       "      <td id=\"T_accce_row9_col7\" class=\"data row9 col7\" >1.000000</td>\n",
       "    </tr>\n",
       "  </tbody>\n",
       "</table>\n"
      ],
      "text/plain": [
       "<pandas.io.formats.style.Styler at 0x293e5ef6f30>"
      ]
     },
     "execution_count": 18,
     "metadata": {},
     "output_type": "execute_result"
    }
   ],
   "source": [
    "df[df['Potability']==1].describe().T.style.background_gradient(subset=['mean','std','50%','count'])"
   ]
  },
  {
   "cell_type": "code",
   "execution_count": 19,
   "id": "d5621411",
   "metadata": {},
   "outputs": [
    {
     "data": {
      "text/html": [
       "<style type=\"text/css\">\n",
       "#T_a89bf_row0_col0, #T_a89bf_row0_col1, #T_a89bf_row0_col2, #T_a89bf_row0_col5, #T_a89bf_row1_col0, #T_a89bf_row1_col2, #T_a89bf_row2_col0, #T_a89bf_row3_col0, #T_a89bf_row3_col1, #T_a89bf_row3_col2, #T_a89bf_row3_col5, #T_a89bf_row4_col0, #T_a89bf_row4_col2, #T_a89bf_row5_col0, #T_a89bf_row6_col0, #T_a89bf_row6_col1, #T_a89bf_row6_col2, #T_a89bf_row6_col5, #T_a89bf_row7_col0, #T_a89bf_row7_col1, #T_a89bf_row7_col2, #T_a89bf_row7_col5, #T_a89bf_row8_col0, #T_a89bf_row8_col1, #T_a89bf_row8_col2, #T_a89bf_row8_col5, #T_a89bf_row9_col0, #T_a89bf_row9_col1, #T_a89bf_row9_col2, #T_a89bf_row9_col5 {\n",
       "  background-color: #fff7fb;\n",
       "  color: #000000;\n",
       "}\n",
       "#T_a89bf_row1_col1, #T_a89bf_row1_col5, #T_a89bf_row5_col2 {\n",
       "  background-color: #fef6fa;\n",
       "  color: #000000;\n",
       "}\n",
       "#T_a89bf_row2_col1, #T_a89bf_row2_col2, #T_a89bf_row2_col5 {\n",
       "  background-color: #023858;\n",
       "  color: #f1f1f1;\n",
       "}\n",
       "#T_a89bf_row4_col1, #T_a89bf_row4_col5 {\n",
       "  background-color: #fdf5fa;\n",
       "  color: #000000;\n",
       "}\n",
       "#T_a89bf_row5_col1, #T_a89bf_row5_col5 {\n",
       "  background-color: #fcf4fa;\n",
       "  color: #000000;\n",
       "}\n",
       "</style>\n",
       "<table id=\"T_a89bf\">\n",
       "  <thead>\n",
       "    <tr>\n",
       "      <th class=\"blank level0\" >&nbsp;</th>\n",
       "      <th id=\"T_a89bf_level0_col0\" class=\"col_heading level0 col0\" >count</th>\n",
       "      <th id=\"T_a89bf_level0_col1\" class=\"col_heading level0 col1\" >mean</th>\n",
       "      <th id=\"T_a89bf_level0_col2\" class=\"col_heading level0 col2\" >std</th>\n",
       "      <th id=\"T_a89bf_level0_col3\" class=\"col_heading level0 col3\" >min</th>\n",
       "      <th id=\"T_a89bf_level0_col4\" class=\"col_heading level0 col4\" >25%</th>\n",
       "      <th id=\"T_a89bf_level0_col5\" class=\"col_heading level0 col5\" >50%</th>\n",
       "      <th id=\"T_a89bf_level0_col6\" class=\"col_heading level0 col6\" >75%</th>\n",
       "      <th id=\"T_a89bf_level0_col7\" class=\"col_heading level0 col7\" >max</th>\n",
       "    </tr>\n",
       "  </thead>\n",
       "  <tbody>\n",
       "    <tr>\n",
       "      <th id=\"T_a89bf_level0_row0\" class=\"row_heading level0 row0\" >ph</th>\n",
       "      <td id=\"T_a89bf_row0_col0\" class=\"data row0 col0\" >30495.000000</td>\n",
       "      <td id=\"T_a89bf_row0_col1\" class=\"data row0 col1\" >7.095493</td>\n",
       "      <td id=\"T_a89bf_row0_col2\" class=\"data row0 col2\" >3.156008</td>\n",
       "      <td id=\"T_a89bf_row0_col3\" class=\"data row0 col3\" >3.442510</td>\n",
       "      <td id=\"T_a89bf_row0_col4\" class=\"data row0 col4\" >3.442510</td>\n",
       "      <td id=\"T_a89bf_row0_col5\" class=\"data row0 col5\" >7.035456</td>\n",
       "      <td id=\"T_a89bf_row0_col6\" class=\"data row0 col6\" >10.812925</td>\n",
       "      <td id=\"T_a89bf_row0_col7\" class=\"data row0 col7\" >10.812925</td>\n",
       "    </tr>\n",
       "    <tr>\n",
       "      <th id=\"T_a89bf_level0_row1\" class=\"row_heading level0 row1\" >Hardness</th>\n",
       "      <td id=\"T_a89bf_row1_col0\" class=\"data row1 col0\" >30495.000000</td>\n",
       "      <td id=\"T_a89bf_row1_col1\" class=\"data row1 col1\" >196.612474</td>\n",
       "      <td id=\"T_a89bf_row1_col2\" class=\"data row1 col2\" >31.511797</td>\n",
       "      <td id=\"T_a89bf_row1_col3\" class=\"data row1 col3\" >114.236366</td>\n",
       "      <td id=\"T_a89bf_row1_col4\" class=\"data row1 col4\" >175.225265</td>\n",
       "      <td id=\"T_a89bf_row1_col5\" class=\"data row1 col5\" >196.648569</td>\n",
       "      <td id=\"T_a89bf_row1_col6\" class=\"data row1 col6\" >218.174199</td>\n",
       "      <td id=\"T_a89bf_row1_col7\" class=\"data row1 col7\" >278.062602</td>\n",
       "    </tr>\n",
       "    <tr>\n",
       "      <th id=\"T_a89bf_level0_row2\" class=\"row_heading level0 row2\" >Solids</th>\n",
       "      <td id=\"T_a89bf_row2_col0\" class=\"data row2 col0\" >30495.000000</td>\n",
       "      <td id=\"T_a89bf_row2_col1\" class=\"data row2 col1\" >21864.579680</td>\n",
       "      <td id=\"T_a89bf_row2_col2\" class=\"data row2 col2\" >8268.490603</td>\n",
       "      <td id=\"T_a89bf_row2_col3\" class=\"data row2 col3\" >5416.238724</td>\n",
       "      <td id=\"T_a89bf_row2_col4\" class=\"data row2 col4\" >16034.018667</td>\n",
       "      <td id=\"T_a89bf_row2_col5\" class=\"data row2 col5\" >21690.824976</td>\n",
       "      <td id=\"T_a89bf_row2_col6\" class=\"data row2 col6\" >27475.251963</td>\n",
       "      <td id=\"T_a89bf_row2_col7\" class=\"data row2 col7\" >45974.106490</td>\n",
       "    </tr>\n",
       "    <tr>\n",
       "      <th id=\"T_a89bf_level0_row3\" class=\"row_heading level0 row3\" >Chloramines</th>\n",
       "      <td id=\"T_a89bf_row3_col0\" class=\"data row3 col0\" >30495.000000</td>\n",
       "      <td id=\"T_a89bf_row3_col1\" class=\"data row3 col1\" >7.026113</td>\n",
       "      <td id=\"T_a89bf_row3_col2\" class=\"data row3 col2\" >3.141537</td>\n",
       "      <td id=\"T_a89bf_row3_col3\" class=\"data row3 col3\" >3.203082</td>\n",
       "      <td id=\"T_a89bf_row3_col4\" class=\"data row3 col4\" >3.330869</td>\n",
       "      <td id=\"T_a89bf_row3_col5\" class=\"data row3 col5\" >7.086469</td>\n",
       "      <td id=\"T_a89bf_row3_col6\" class=\"data row3 col6\" >10.653649</td>\n",
       "      <td id=\"T_a89bf_row3_col7\" class=\"data row3 col7\" >10.967153</td>\n",
       "    </tr>\n",
       "    <tr>\n",
       "      <th id=\"T_a89bf_level0_row4\" class=\"row_heading level0 row4\" >Sulfate</th>\n",
       "      <td id=\"T_a89bf_row4_col0\" class=\"data row4 col0\" >30495.000000</td>\n",
       "      <td id=\"T_a89bf_row4_col1\" class=\"data row4 col1\" >334.478652</td>\n",
       "      <td id=\"T_a89bf_row4_col2\" class=\"data row4 col2\" >32.098918</td>\n",
       "      <td id=\"T_a89bf_row4_col3\" class=\"data row4 col3\" >237.136957</td>\n",
       "      <td id=\"T_a89bf_row4_col4\" class=\"data row4 col4\" >313.045553</td>\n",
       "      <td id=\"T_a89bf_row4_col5\" class=\"data row4 col5\" >333.883210</td>\n",
       "      <td id=\"T_a89bf_row4_col6\" class=\"data row4 col6\" >355.771551</td>\n",
       "      <td id=\"T_a89bf_row4_col7\" class=\"data row4 col7\" >429.028139</td>\n",
       "    </tr>\n",
       "    <tr>\n",
       "      <th id=\"T_a89bf_level0_row5\" class=\"row_heading level0 row5\" >Conductivity</th>\n",
       "      <td id=\"T_a89bf_row5_col0\" class=\"data row5 col0\" >30495.000000</td>\n",
       "      <td id=\"T_a89bf_row5_col1\" class=\"data row5 col1\" >427.421840</td>\n",
       "      <td id=\"T_a89bf_row5_col2\" class=\"data row5 col2\" >76.966164</td>\n",
       "      <td id=\"T_a89bf_row5_col3\" class=\"data row5 col3\" >269.422947</td>\n",
       "      <td id=\"T_a89bf_row5_col4\" class=\"data row5 col4\" >373.167535</td>\n",
       "      <td id=\"T_a89bf_row5_col5\" class=\"data row5 col5\" >426.892607</td>\n",
       "      <td id=\"T_a89bf_row5_col6\" class=\"data row5 col6\" >480.288879</td>\n",
       "      <td id=\"T_a89bf_row5_col7\" class=\"data row5 col7\" >617.626558</td>\n",
       "    </tr>\n",
       "    <tr>\n",
       "      <th id=\"T_a89bf_level0_row6\" class=\"row_heading level0 row6\" >Organic_carbon</th>\n",
       "      <td id=\"T_a89bf_row6_col0\" class=\"data row6 col0\" >30495.000000</td>\n",
       "      <td id=\"T_a89bf_row6_col1\" class=\"data row6 col1\" >14.337627</td>\n",
       "      <td id=\"T_a89bf_row6_col2\" class=\"data row6 col2\" >5.690875</td>\n",
       "      <td id=\"T_a89bf_row6_col3\" class=\"data row6 col3\" >6.452487</td>\n",
       "      <td id=\"T_a89bf_row6_col4\" class=\"data row6 col4\" >8.640401</td>\n",
       "      <td id=\"T_a89bf_row6_col5\" class=\"data row6 col5\" >14.248748</td>\n",
       "      <td id=\"T_a89bf_row6_col6\" class=\"data row6 col6\" >19.970926</td>\n",
       "      <td id=\"T_a89bf_row6_col7\" class=\"data row6 col7\" >22.090049</td>\n",
       "    </tr>\n",
       "    <tr>\n",
       "      <th id=\"T_a89bf_level0_row7\" class=\"row_heading level0 row7\" >Trihalomethanes</th>\n",
       "      <td id=\"T_a89bf_row7_col0\" class=\"data row7 col0\" >30495.000000</td>\n",
       "      <td id=\"T_a89bf_row7_col1\" class=\"data row7 col1\" >66.388101</td>\n",
       "      <td id=\"T_a89bf_row7_col2\" class=\"data row7 col2\" >16.905251</td>\n",
       "      <td id=\"T_a89bf_row7_col3\" class=\"data row7 col3\" >28.524993</td>\n",
       "      <td id=\"T_a89bf_row7_col4\" class=\"data row7 col4\" >54.722102</td>\n",
       "      <td id=\"T_a89bf_row7_col5\" class=\"data row7 col5\" >66.529382</td>\n",
       "      <td id=\"T_a89bf_row7_col6\" class=\"data row7 col6\" >78.147045</td>\n",
       "      <td id=\"T_a89bf_row7_col7\" class=\"data row7 col7\" >104.606299</td>\n",
       "    </tr>\n",
       "    <tr>\n",
       "      <th id=\"T_a89bf_level0_row8\" class=\"row_heading level0 row8\" >Turbidity</th>\n",
       "      <td id=\"T_a89bf_row8_col0\" class=\"data row8 col0\" >30495.000000</td>\n",
       "      <td id=\"T_a89bf_row8_col1\" class=\"data row8 col1\" >3.955481</td>\n",
       "      <td id=\"T_a89bf_row8_col2\" class=\"data row8 col2\" >1.615780</td>\n",
       "      <td id=\"T_a89bf_row8_col3\" class=\"data row8 col3\" >2.161414</td>\n",
       "      <td id=\"T_a89bf_row8_col4\" class=\"data row8 col4\" >2.199628</td>\n",
       "      <td id=\"T_a89bf_row8_col5\" class=\"data row8 col5\" >3.955091</td>\n",
       "      <td id=\"T_a89bf_row8_col6\" class=\"data row8 col6\" >5.709118</td>\n",
       "      <td id=\"T_a89bf_row8_col7\" class=\"data row8 col7\" >5.741640</td>\n",
       "    </tr>\n",
       "    <tr>\n",
       "      <th id=\"T_a89bf_level0_row9\" class=\"row_heading level0 row9\" >Potability</th>\n",
       "      <td id=\"T_a89bf_row9_col0\" class=\"data row9 col0\" >30495.000000</td>\n",
       "      <td id=\"T_a89bf_row9_col1\" class=\"data row9 col1\" >0.000000</td>\n",
       "      <td id=\"T_a89bf_row9_col2\" class=\"data row9 col2\" >0.000000</td>\n",
       "      <td id=\"T_a89bf_row9_col3\" class=\"data row9 col3\" >0.000000</td>\n",
       "      <td id=\"T_a89bf_row9_col4\" class=\"data row9 col4\" >0.000000</td>\n",
       "      <td id=\"T_a89bf_row9_col5\" class=\"data row9 col5\" >0.000000</td>\n",
       "      <td id=\"T_a89bf_row9_col6\" class=\"data row9 col6\" >0.000000</td>\n",
       "      <td id=\"T_a89bf_row9_col7\" class=\"data row9 col7\" >0.000000</td>\n",
       "    </tr>\n",
       "  </tbody>\n",
       "</table>\n"
      ],
      "text/plain": [
       "<pandas.io.formats.style.Styler at 0x293ea2ee630>"
      ]
     },
     "execution_count": 19,
     "metadata": {},
     "output_type": "execute_result"
    }
   ],
   "source": [
    "df[df['Potability']==0].describe().T.style.background_gradient(subset=['mean','std','50%','count'])"
   ]
  },
  {
   "cell_type": "code",
   "execution_count": 20,
   "id": "ad59e32b",
   "metadata": {},
   "outputs": [
    {
     "data": {
      "application/vnd.microsoft.datawrangler.viewer.v0+json": {
       "columns": [
        {
         "name": "index",
         "rawType": "object",
         "type": "string"
        },
        {
         "name": "count",
         "rawType": "float64",
         "type": "float"
        },
        {
         "name": "mean",
         "rawType": "float64",
         "type": "float"
        },
        {
         "name": "std",
         "rawType": "float64",
         "type": "float"
        },
        {
         "name": "min",
         "rawType": "float64",
         "type": "float"
        },
        {
         "name": "25%",
         "rawType": "float64",
         "type": "float"
        },
        {
         "name": "50%",
         "rawType": "float64",
         "type": "float"
        },
        {
         "name": "75%",
         "rawType": "float64",
         "type": "float"
        },
        {
         "name": "max",
         "rawType": "float64",
         "type": "float"
        }
       ],
       "ref": "f3a7ae5a-4da6-4d0b-88af-6f112cb83cc4",
       "rows": [
        [
         "ph",
         "50000.0",
         "7.093382038343325",
         "3.0851236388990726",
         "3.442510338283572",
         "3.6755670488129466",
         "7.036752103833548",
         "10.493743809069404",
         "10.812924894406173"
        ],
        [
         "Sulfate",
         "50000.0",
         "333.80295870470104",
         "35.39274985912615",
         "237.13695691301783",
         "310.46912931798283",
         "333.38942610169323",
         "357.2273775184505",
         "429.0281388090126"
        ],
        [
         "Trihalomethanes",
         "50000.0",
         "66.52004698884436",
         "17.02618461721239",
         "28.52499261378618",
         "54.767586827687104",
         "66.57591273564023",
         "78.33016875018663",
         "104.60629940595828"
        ]
       ],
       "shape": {
        "columns": 8,
        "rows": 3
       }
      },
      "text/html": [
       "<div>\n",
       "<style scoped>\n",
       "    .dataframe tbody tr th:only-of-type {\n",
       "        vertical-align: middle;\n",
       "    }\n",
       "\n",
       "    .dataframe tbody tr th {\n",
       "        vertical-align: top;\n",
       "    }\n",
       "\n",
       "    .dataframe thead th {\n",
       "        text-align: right;\n",
       "    }\n",
       "</style>\n",
       "<table border=\"1\" class=\"dataframe\">\n",
       "  <thead>\n",
       "    <tr style=\"text-align: right;\">\n",
       "      <th></th>\n",
       "      <th>count</th>\n",
       "      <th>mean</th>\n",
       "      <th>std</th>\n",
       "      <th>min</th>\n",
       "      <th>25%</th>\n",
       "      <th>50%</th>\n",
       "      <th>75%</th>\n",
       "      <th>max</th>\n",
       "    </tr>\n",
       "  </thead>\n",
       "  <tbody>\n",
       "    <tr>\n",
       "      <th>ph</th>\n",
       "      <td>50000.0</td>\n",
       "      <td>7.093382</td>\n",
       "      <td>3.085124</td>\n",
       "      <td>3.442510</td>\n",
       "      <td>3.675567</td>\n",
       "      <td>7.036752</td>\n",
       "      <td>10.493744</td>\n",
       "      <td>10.812925</td>\n",
       "    </tr>\n",
       "    <tr>\n",
       "      <th>Sulfate</th>\n",
       "      <td>50000.0</td>\n",
       "      <td>333.802959</td>\n",
       "      <td>35.392750</td>\n",
       "      <td>237.136957</td>\n",
       "      <td>310.469129</td>\n",
       "      <td>333.389426</td>\n",
       "      <td>357.227378</td>\n",
       "      <td>429.028139</td>\n",
       "    </tr>\n",
       "    <tr>\n",
       "      <th>Trihalomethanes</th>\n",
       "      <td>50000.0</td>\n",
       "      <td>66.520047</td>\n",
       "      <td>17.026185</td>\n",
       "      <td>28.524993</td>\n",
       "      <td>54.767587</td>\n",
       "      <td>66.575913</td>\n",
       "      <td>78.330169</td>\n",
       "      <td>104.606299</td>\n",
       "    </tr>\n",
       "  </tbody>\n",
       "</table>\n",
       "</div>"
      ],
      "text/plain": [
       "                   count        mean        std         min         25%  \\\n",
       "ph               50000.0    7.093382   3.085124    3.442510    3.675567   \n",
       "Sulfate          50000.0  333.802959  35.392750  237.136957  310.469129   \n",
       "Trihalomethanes  50000.0   66.520047  17.026185   28.524993   54.767587   \n",
       "\n",
       "                        50%         75%         max  \n",
       "ph                 7.036752   10.493744   10.812925  \n",
       "Sulfate          333.389426  357.227378  429.028139  \n",
       "Trihalomethanes   66.575913   78.330169  104.606299  "
      ]
     },
     "execution_count": 20,
     "metadata": {},
     "output_type": "execute_result"
    }
   ],
   "source": [
    "df[['ph','Sulfate','Trihalomethanes']].describe().T"
   ]
  },
  {
   "cell_type": "markdown",
   "id": "14e6526d-562e-4806-a9b8-3693fbdf8e41",
   "metadata": {},
   "source": [
    "\n",
    "## Dimensionamento de recursos.  first import é aqui"
   ]
  },
  {
   "cell_type": "markdown",
   "id": "0267c2ed",
   "metadata": {},
   "source": [
    "Scaler = você cria um objeto que sabe calcular a média e o desvio padrão de cada coluna.\n",
    "\n",
    "fit → calcula a média e o desvio padrão de cada coluna de X.\n",
    "transform → aplica a fórmula de padronização do Nosso professor Daniel\n"
   ]
  },
  {
   "cell_type": "code",
   "execution_count": 21,
   "id": "f79223b7-026b-40cb-b22c-6d667892b09f",
   "metadata": {},
   "outputs": [],
   "source": [
    "X = df.drop(['Potability'],axis=1)\n",
    "Y = df['Potability']\n",
    "X_stdscle = StandardScaler().fit_transform(X.values)"
   ]
  },
  {
   "cell_type": "markdown",
   "id": "1a4b9a52-251d-468f-97f3-5d6d6737412f",
   "metadata": {},
   "source": [
    "## Dividindo o conjunto de dados em conjuntos de treinamento e teste\n"
   ]
  },
  {
   "cell_type": "code",
   "execution_count": 22,
   "id": "3cc26537-7df1-4ca6-a373-4b6da751eca3",
   "metadata": {},
   "outputs": [],
   "source": [
    "x_train, x_test, y_train, y_test = train_test_split(X, Y, test_size = 0.2, stratify = Y, random_state = 42)"
   ]
  },
  {
   "cell_type": "markdown",
   "id": "512d3eff-c4e8-4c22-bb5d-0e5879988569",
   "metadata": {},
   "source": [
    "## Modelo 1: Classificador de Árvore de Decisão"
   ]
  },
  {
   "cell_type": "markdown",
   "id": "889953d3",
   "metadata": {},
   "source": [
    "#### RESULTADO 1"
   ]
  },
  {
   "cell_type": "code",
   "execution_count": 23,
   "id": "35401f7a",
   "metadata": {},
   "outputs": [
    {
     "name": "stdout",
     "output_type": "stream",
     "text": [
      "Train accuracy: 93.74\n",
      "Test Accuracy: 93.8\n",
      "Confusion Matrix:\n",
      "[[6093    6]\n",
      " [ 614 3287]]\n",
      "Classification Report : \n",
      "               precision    recall  f1-score   support\n",
      "\n",
      "           0       0.91      1.00      0.95      6099\n",
      "           1       1.00      0.84      0.91      3901\n",
      "\n",
      "    accuracy                           0.94     10000\n",
      "   macro avg       0.95      0.92      0.93     10000\n",
      "weighted avg       0.94      0.94      0.94     10000\n",
      "\n"
     ]
    }
   ],
   "source": [
    "clf = DecisionTreeClassifier(criterion='entropy',max_depth=3,splitter='best')\n",
    "\n",
    "clf = clf.fit(x_train,y_train)\n",
    "\n",
    "y_pred = clf.predict(x_test)\n",
    "acc_decision_tree = round(clf.score(x_train, y_train) * 100, 2)\n",
    "\n",
    "print(\"Train accuracy:\",acc_decision_tree)\n",
    "print(\"Test Accuracy:\", 100*(metrics.accuracy_score(y_test, y_pred)))\n",
    "\n",
    "result = confusion_matrix(y_test, y_pred)\n",
    "print(\"Confusion Matrix:\")\n",
    "print(result)\n",
    "print(\"Classification Report : \\n\", classification_report(y_test, y_pred))"
   ]
  },
  {
   "cell_type": "markdown",
   "id": "32fd9719",
   "metadata": {},
   "source": [
    "#### RESULTADO 2"
   ]
  },
  {
   "cell_type": "code",
   "execution_count": 24,
   "id": "993b5e25",
   "metadata": {},
   "outputs": [
    {
     "name": "stdout",
     "output_type": "stream",
     "text": [
      "Train accuracy: 83.61\n",
      "Test Accuracy: 83.21\n",
      "Confusion Matrix:\n",
      "[[5879  220]\n",
      " [1459 2442]]\n",
      "Classification Report : \n",
      "               precision    recall  f1-score   support\n",
      "\n",
      "           0       0.80      0.96      0.88      6099\n",
      "           1       0.92      0.63      0.74      3901\n",
      "\n",
      "    accuracy                           0.83     10000\n",
      "   macro avg       0.86      0.79      0.81     10000\n",
      "weighted avg       0.85      0.83      0.82     10000\n",
      "\n"
     ]
    }
   ],
   "source": [
    "clf = DecisionTreeClassifier(criterion='entropy',max_depth=12,splitter='random')\n",
    "\n",
    "clf = clf.fit(x_train,y_train)\n",
    "\n",
    "y_pred = clf.predict(x_test)\n",
    "acc_decision_tree = round(clf.score(x_train, y_train) * 100, 2)\n",
    "\n",
    "print(\"Train accuracy:\",acc_decision_tree)\n",
    "print(\"Test Accuracy:\", 100*(metrics.accuracy_score(y_test, y_pred)))\n",
    "\n",
    "result = confusion_matrix(y_test, y_pred)\n",
    "print(\"Confusion Matrix:\")\n",
    "print(result)\n",
    "print(\"Classification Report : \\n\", classification_report(y_test, y_pred))"
   ]
  },
  {
   "cell_type": "markdown",
   "id": "090d7ac5",
   "metadata": {},
   "source": [
    "#### RESULTADO 3\n"
   ]
  },
  {
   "cell_type": "code",
   "execution_count": 25,
   "id": "1d8ce102",
   "metadata": {},
   "outputs": [
    {
     "name": "stdout",
     "output_type": "stream",
     "text": [
      "Train accuracy: 97.04\n",
      "Test Accuracy: 96.89999999999999\n",
      "Confusion Matrix:\n",
      "[[6087   12]\n",
      " [ 298 3603]]\n",
      "Classification Report : \n",
      "               precision    recall  f1-score   support\n",
      "\n",
      "           0       0.95      1.00      0.98      6099\n",
      "           1       1.00      0.92      0.96      3901\n",
      "\n",
      "    accuracy                           0.97     10000\n",
      "   macro avg       0.98      0.96      0.97     10000\n",
      "weighted avg       0.97      0.97      0.97     10000\n",
      "\n"
     ]
    }
   ],
   "source": [
    "clf = DecisionTreeClassifier(criterion='entropy',max_depth=12,splitter='best')\n",
    "\n",
    "clf = clf.fit(x_train,y_train)\n",
    "\n",
    "y_pred = clf.predict(x_test)\n",
    "acc_decision_tree = round(clf.score(x_train, y_train) * 100, 2)\n",
    "\n",
    "print(\"Train accuracy:\",acc_decision_tree)\n",
    "print(\"Test Accuracy:\", 100*(metrics.accuracy_score(y_test, y_pred)))\n",
    "\n",
    "result = confusion_matrix(y_test, y_pred)\n",
    "print(\"Confusion Matrix:\")\n",
    "print(result)\n",
    "print(\"Classification Report : \\n\", classification_report(y_test, y_pred))"
   ]
  },
  {
   "cell_type": "markdown",
   "id": "6f3b87a9",
   "metadata": {},
   "source": [
    "<table style=\"width:80%\">\n",
    "    <tr>\n",
    "        <th  style='text-align:center'>Parametros</th>\n",
    "        <th  style='text-align:center'>Acc</th>\n",
    "    </tr>\n",
    "    <tr>\n",
    "        <td  style='text-align:center'>criterion:entropy,max_depth:3,splitter:best</td>\n",
    "        <td  style='text-align:center'>Train: 93.74 , Test:93.8 </td>\n",
    "    </tr>\n",
    "    <tr>\n",
    "        <td  style='text-align:center'>criterion:entropy,max_depth:12,splitter:random</td>\n",
    "        <td  style='text-align:center'>Train: 91.14 , Test:89.94</td>\n",
    "    </tr>\n",
    "    <tr>\n",
    "        <td  style='text-align:center'>criterion:entropy,max_depth:12,splitter:best</td>\n",
    "        <td  style='text-align:center'>Train: 97.04 , Test: 96.88</td>\n",
    "    </tr>"
   ]
  },
  {
   "cell_type": "code",
   "execution_count": 26,
   "id": "593c9612",
   "metadata": {},
   "outputs": [
    {
     "name": "stdout",
     "output_type": "stream",
     "text": [
      "0.031\n",
      "0.17606816861659008\n",
      "0.031\n",
      "0.8697051920253357\n"
     ]
    }
   ],
   "source": [
    "#MSE\n",
    "from sklearn.metrics import mean_squared_error\n",
    "print(mean_squared_error(y_test, y_pred))\n",
    "\n",
    "# RMSE\n",
    "print(np.sqrt(metrics.mean_squared_error(y_test, y_pred)))\n",
    "\n",
    "#MAE\n",
    "from sklearn.metrics import mean_absolute_error\n",
    "print(mean_absolute_error(y_test, y_pred))\n",
    "\n",
    "#R2\n",
    "from sklearn.metrics import r2_score \n",
    "print(r2_score(y_test,y_pred))"
   ]
  },
  {
   "cell_type": "code",
   "execution_count": 27,
   "id": "f0764819",
   "metadata": {},
   "outputs": [
    {
     "data": {
      "text/plain": [
       "Text(50.722222222222214, 0.5, 'Prediction Label')"
      ]
     },
     "execution_count": 27,
     "metadata": {},
     "output_type": "execute_result"
    },
    {
     "data": {
      "image/png": "[encoded data removed]",
      "text/plain": [
       "<Figure size 640x480 with 2 Axes>"
      ]
     },
     "metadata": {},
     "output_type": "display_data"
    }
   ],
   "source": [
    "sns.heatmap(data=confusion_matrix(y_test, clf.predict(x_test)), annot = True, cmap=\"Blues\",fmt='g')\n",
    "plt.title('Confusion Matrix', y=1.02)\n",
    "plt.xlabel('Actual Label')\n",
    "plt.ylabel('Prediction Label')"
   ]
  },
  {
   "cell_type": "code",
   "execution_count": 28,
   "id": "24ade7f7",
   "metadata": {},
   "outputs": [
    {
     "data": {
      "text/plain": [
       "Text(50.722222222222214, 0.5, 'Prediction Label')"
      ]
     },
     "execution_count": 28,
     "metadata": {},
     "output_type": "execute_result"
    },
    {
     "data": {
      "image/png": "[encoded data removed]",
      "text/plain": [
       "<Figure size 640x480 with 2 Axes>"
      ]
     },
     "metadata": {},
     "output_type": "display_data"
    }
   ],
   "source": [
    "sns.heatmap(data=confusion_matrix(y_train, clf.predict(x_train)), annot = True, cmap=\"Blues\",fmt='g')\n",
    "plt.title('Confusion Matrix', y=1.02)\n",
    "plt.xlabel('Actual Label')\n",
    "plt.ylabel('Prediction Label')"
   ]
  },
  {
   "cell_type": "code",
   "execution_count": 29,
   "id": "f79383ca",
   "metadata": {},
   "outputs": [
    {
     "name": "stdout",
     "output_type": "stream",
     "text": [
      "treino acc: 93.74%\n",
      "teste acc: 93.80%\n"
     ]
    },
    {
     "data": {
      "image/png": "[encoded data removed]",
      "text/plain": [
       "<Figure size 1500x1000 with 1 Axes>"
      ]
     },
     "metadata": {},
     "output_type": "display_data"
    }
   ],
   "source": [
    "model = tree.DecisionTreeClassifier(criterion='entropy', max_depth=3)\n",
    "model.fit(x_train, y_train)\n",
    "\n",
    "print(f\"treino acc: {metrics.accuracy_score(y_train, model.predict(x_train)) * 100:.2f}%\")\n",
    "print(f\"teste acc: {metrics.accuracy_score(y_test, model.predict(x_test)) * 100:.2f}%\")\n",
    "\n",
    "fig, ax = plt.subplots(figsize=(15, 10))\n",
    "tree.plot_tree(\n",
    "    model,\n",
    "    feature_names=X.columns,\n",
    "    class_names=[str(c) for c in sorted(y_train.unique())], \n",
    "    filled=True,     \n",
    "    impurity=True,    # mostra impureza (entropia)\n",
    "    rounded=True,     # deixa os nós com cantos arredondados\n",
    "    fontsize=10     # melhora leitura\n",
    ")\n",
    "plt.show()"
   ]
  },
  {
   "cell_type": "markdown",
   "id": "1a16f241-3eb3-45cf-af78-dfbe9c5f69b0",
   "metadata": {},
   "source": [
    "## Modelo 2: Classificador Random Forest"
   ]
  },
  {
   "cell_type": "markdown",
   "id": "ae07e0d9",
   "metadata": {},
   "source": [
    "#### RESULTADO 1"
   ]
  },
  {
   "cell_type": "code",
   "execution_count": 30,
   "id": "248ee16d",
   "metadata": {},
   "outputs": [],
   "source": [
    "classifier = RandomForestClassifier(n_estimators = 150,criterion='entropy',max_depth = 10)\n",
    "classifier.fit(x_train, y_train)\n",
    "rf_pred = classifier.predict(x_test)"
   ]
  },
  {
   "cell_type": "code",
   "execution_count": 31,
   "id": "e8ecf6f0",
   "metadata": {},
   "outputs": [
    {
     "name": "stdout",
     "output_type": "stream",
     "text": [
      "Confusion Matrix:\n",
      "[[6077   22]\n",
      " [ 335 3566]]\n",
      "Classification Report:\n",
      "              precision    recall  f1-score   support\n",
      "\n",
      "           0       0.95      1.00      0.97      6099\n",
      "           1       0.99      0.91      0.95      3901\n",
      "\n",
      "    accuracy                           0.96     10000\n",
      "   macro avg       0.97      0.96      0.96     10000\n",
      "weighted avg       0.97      0.96      0.96     10000\n",
      "\n",
      "Accuracy: 96.43\n"
     ]
    }
   ],
   "source": [
    "resultado = confusion_matrix(y_test, rf_pred)\n",
    "print(\"Confusion Matrix:\")\n",
    "print(resultado)\n",
    "resultado1 = classification_report(y_test, rf_pred)\n",
    "print(\"Classification Report:\",)\n",
    "print (resultado1)\n",
    "resultado2 = accuracy_score(y_test,rf_pred)*100\n",
    "print(\"Accuracy:\",resultado2)"
   ]
  },
  {
   "cell_type": "markdown",
   "id": "dffaabcd",
   "metadata": {},
   "source": [
    "#### RESULTADO 2\n"
   ]
  },
  {
   "cell_type": "code",
   "execution_count": 32,
   "id": "c472903a",
   "metadata": {},
   "outputs": [],
   "source": [
    "classifier = RandomForestClassifier(n_estimators = 500,criterion='entropy',max_depth = 8)\n",
    "classifier.fit(x_train, y_train)\n",
    "rf_pred = classifier.predict(x_test)"
   ]
  },
  {
   "cell_type": "code",
   "execution_count": 33,
   "id": "097f81a8",
   "metadata": {},
   "outputs": [
    {
     "name": "stdout",
     "output_type": "stream",
     "text": [
      "Confusion Matrix:\n",
      "[[6076   23]\n",
      " [ 376 3525]]\n",
      "Classification Report:\n",
      "              precision    recall  f1-score   support\n",
      "\n",
      "           0       0.94      1.00      0.97      6099\n",
      "           1       0.99      0.90      0.95      3901\n",
      "\n",
      "    accuracy                           0.96     10000\n",
      "   macro avg       0.97      0.95      0.96     10000\n",
      "weighted avg       0.96      0.96      0.96     10000\n",
      "\n",
      "Accuracy: 96.00999999999999\n"
     ]
    }
   ],
   "source": [
    "\n",
    "resultado = confusion_matrix(y_test, rf_pred)\n",
    "print(\"Confusion Matrix:\")\n",
    "print(resultado)\n",
    "resultado1 = classification_report(y_test, rf_pred)\n",
    "print(\"Classification Report:\",)\n",
    "print (resultado1)\n",
    "resultado2 = accuracy_score(y_test,rf_pred)*100\n",
    "print(\"Accuracy:\",resultado2)"
   ]
  },
  {
   "cell_type": "markdown",
   "id": "44e2bc46",
   "metadata": {},
   "source": [
    "#### RESULTADO 3"
   ]
  },
  {
   "cell_type": "code",
   "execution_count": 34,
   "id": "4086c301",
   "metadata": {},
   "outputs": [
    {
     "name": "stdout",
     "output_type": "stream",
     "text": [
      "[98.04, 98.32, 98.06, 98.02, 98.11999999999999, 98.19, 97.82, 97.98, 98.03, 98.37]\n",
      "Média da acurácia: 98.09%\n"
     ]
    }
   ],
   "source": [
    "\n",
    "def validacao_cruzada(X, Y, tam=10):\n",
    "    lista_accuracy = []\n",
    "\n",
    "    for i in range(tam):\n",
    "        seed = random.randint(1, 100)\n",
    "        x_train, x_test, y_train, y_test = train_test_split(\n",
    "            X, Y, test_size=0.2, stratify=Y, random_state=seed\n",
    "        )\n",
    "\n",
    "        classifier = RandomForestClassifier(\n",
    "            n_estimators=100,\n",
    "            criterion='entropy',\n",
    "            max_depth=None,\n",
    "            random_state=seed\n",
    "        )\n",
    "\n",
    "        classifier.fit(x_train, y_train)\n",
    "        rf_pred = classifier.predict(x_test)\n",
    "        resultado = accuracy_score(y_test, rf_pred) * 100\n",
    "        lista_accuracy.append(resultado)\n",
    "\n",
    "    return lista_accuracy\n",
    "\n",
    "a = validacao_cruzada(X, Y, tam=10)\n",
    "print(a)\n",
    "print(f\"Média da acurácia: {sum(a)/len(a):.2f}%\")\n"
   ]
  },
  {
   "cell_type": "code",
   "execution_count": 35,
   "id": "162f81f3",
   "metadata": {},
   "outputs": [],
   "source": [
    "classifier = RandomForestClassifier(n_estimators = 100,criterion='entropy',max_depth = None)\n",
    "classifier.fit(x_train, y_train)\n",
    "rf_pred = classifier.predict(x_test)"
   ]
  },
  {
   "cell_type": "markdown",
   "id": "01a8c08c",
   "metadata": {},
   "source": [
    "## comando de serialização do melhor modelo encontradp \n"
   ]
  },
  {
   "cell_type": "code",
   "execution_count": 36,
   "id": "80f9e11f",
   "metadata": {},
   "outputs": [],
   "source": [
    "# import pickle\n",
    "# with open(\"model.pkl\", \"wb\") as f:\n",
    "#     pickle.dump(classifier, f)"
   ]
  },
  {
   "cell_type": "code",
   "execution_count": 37,
   "id": "d865184a",
   "metadata": {},
   "outputs": [
    {
     "name": "stdout",
     "output_type": "stream",
     "text": [
      "Confusion Matrix:\n",
      "[[6038   61]\n",
      " [ 125 3776]]\n",
      "Classification Report:\n",
      "              precision    recall  f1-score   support\n",
      "\n",
      "           0       0.98      0.99      0.98      6099\n",
      "           1       0.98      0.97      0.98      3901\n",
      "\n",
      "    accuracy                           0.98     10000\n",
      "   macro avg       0.98      0.98      0.98     10000\n",
      "weighted avg       0.98      0.98      0.98     10000\n",
      "\n",
      "Accuracy: 98.14\n"
     ]
    }
   ],
   "source": [
    "resultado = confusion_matrix(y_test, rf_pred)\n",
    "print(\"Confusion Matrix:\")\n",
    "print(resultado)\n",
    "resultado1 = classification_report(y_test, rf_pred)\n",
    "print(\"Classification Report:\",)\n",
    "print (resultado1)\n",
    "resultado2 = accuracy_score(y_test,rf_pred)*100\n",
    "print(\"Accuracy:\",resultado2)"
   ]
  },
  {
   "cell_type": "markdown",
   "id": "c58b2563",
   "metadata": {},
   "source": [
    "<table style=\"width:80%\">\n",
    "    <tr>\n",
    "        <th  style='text-align:center'>Parametros</th>\n",
    "        <th  style='text-align:center'>Acc</th>\n",
    "    </tr>\n",
    "    <tr>\n",
    "        <td  style='text-align:center'>criterion:entropy,max_depth:10,n_estimators:150</td>\n",
    "        <td  style='text-align:center'>97.07</td>\n",
    "    </tr>\n",
    "    <tr>\n",
    "        <td  style='text-align:center'>criterion:entropy,max_depth:8,n_estimators:500</td>\n",
    "        <td  style='text-align:center'>96.04</td>\n",
    "    </tr>\n",
    "    <tr>\n",
    "        <td  style='text-align:center'>criterion:entropy,max_depth:None,n_estimators:100</td>\n",
    "        <td  style='text-align:center'>98.24</td>\n",
    "    </tr>"
   ]
  },
  {
   "cell_type": "code",
   "execution_count": 38,
   "id": "6f27148d",
   "metadata": {},
   "outputs": [
    {
     "name": "stdout",
     "output_type": "stream",
     "text": [
      "0.0186\n",
      "0.13638181696985854\n",
      "0.0186\n",
      "0.9218231152152014\n"
     ]
    }
   ],
   "source": [
    "#MSE\n",
    "from sklearn.metrics import mean_squared_error\n",
    "print(mean_squared_error(y_test, rf_pred))\n",
    "\n",
    "# RMSEuyh\n",
    "print(np.sqrt(metrics.mean_squared_error(y_test, rf_pred)))\n",
    "\n",
    "#MAE\n",
    "from sklearn.metrics import mean_absolute_error\n",
    "print(mean_absolute_error(y_test, rf_pred))\n",
    "\n",
    "#R2\n",
    "from sklearn.metrics import r2_score \n",
    "print(r2_score(y_test,rf_pred))"
   ]
  },
  {
   "cell_type": "code",
   "execution_count": 39,
   "id": "f8fb1a79",
   "metadata": {},
   "outputs": [
    {
     "data": {
      "text/plain": [
       "Text(50.722222222222214, 0.5, 'Prediction Label')"
      ]
     },
     "execution_count": 39,
     "metadata": {},
     "output_type": "execute_result"
    },
    {
     "data": {
      "image/png": "[encoded data removed]",
      "text/plain": [
       "<Figure size 640x480 with 2 Axes>"
      ]
     },
     "metadata": {},
     "output_type": "display_data"
    }
   ],
   "source": [
    "sns.heatmap(data=confusion_matrix(y_test, classifier.predict(x_test)), annot = True, cmap=\"Blues\",fmt='g')\n",
    "plt.title('Confusion Matrix', y=1.02)\n",
    "plt.xlabel('Actual Label')\n",
    "plt.ylabel('Prediction Label')"
   ]
  },
  {
   "cell_type": "code",
   "execution_count": 40,
   "id": "c32e00a5",
   "metadata": {},
   "outputs": [
    {
     "data": {
      "text/plain": [
       "Text(50.722222222222214, 0.5, 'Prediction Label')"
      ]
     },
     "execution_count": 40,
     "metadata": {},
     "output_type": "execute_result"
    },
    {
     "data": {
      "image/png": "[encoded data removed]",
      "text/plain": [
       "<Figure size 640x480 with 2 Axes>"
      ]
     },
     "metadata": {},
     "output_type": "display_data"
    }
   ],
   "source": [
    "sns.heatmap(data=confusion_matrix(y_train, classifier.predict(x_train)), annot = True, cmap=\"Blues\",fmt='g')\n",
    "plt.title('Confusion Matrix', y=1.02)\n",
    "plt.xlabel('Actual Label')\n",
    "plt.ylabel('Prediction Label')"
   ]
  },
  {
   "cell_type": "code",
   "execution_count": 41,
   "id": "6f76435c",
   "metadata": {},
   "outputs": [
    {
     "data": {
      "application/vnd.microsoft.datawrangler.viewer.v0+json": {
       "columns": [
        {
         "name": "feature",
         "rawType": "object",
         "type": "string"
        },
        {
         "name": "importance",
         "rawType": "float64",
         "type": "float"
        }
       ],
       "ref": "521faff6-e164-442c-b6a6-18cdf8e5907c",
       "rows": [
        [
         "Turbidity",
         "0.392"
        ],
        [
         "Chloramines",
         "0.246"
        ],
        [
         "ph",
         "0.226"
        ],
        [
         "Organic_carbon",
         "0.077"
        ],
        [
         "Sulfate",
         "0.024"
        ],
        [
         "Hardness",
         "0.01"
        ],
        [
         "Solids",
         "0.01"
        ],
        [
         "Conductivity",
         "0.008"
        ],
        [
         "Trihalomethanes",
         "0.007"
        ]
       ],
       "shape": {
        "columns": 1,
        "rows": 9
       }
      },
      "text/html": [
       "<div>\n",
       "<style scoped>\n",
       "    .dataframe tbody tr th:only-of-type {\n",
       "        vertical-align: middle;\n",
       "    }\n",
       "\n",
       "    .dataframe tbody tr th {\n",
       "        vertical-align: top;\n",
       "    }\n",
       "\n",
       "    .dataframe thead th {\n",
       "        text-align: right;\n",
       "    }\n",
       "</style>\n",
       "<table border=\"1\" class=\"dataframe\">\n",
       "  <thead>\n",
       "    <tr style=\"text-align: right;\">\n",
       "      <th></th>\n",
       "      <th>importance</th>\n",
       "    </tr>\n",
       "    <tr>\n",
       "      <th>feature</th>\n",
       "      <th></th>\n",
       "    </tr>\n",
       "  </thead>\n",
       "  <tbody>\n",
       "    <tr>\n",
       "      <th>Turbidity</th>\n",
       "      <td>0.392</td>\n",
       "    </tr>\n",
       "    <tr>\n",
       "      <th>Chloramines</th>\n",
       "      <td>0.246</td>\n",
       "    </tr>\n",
       "    <tr>\n",
       "      <th>ph</th>\n",
       "      <td>0.226</td>\n",
       "    </tr>\n",
       "    <tr>\n",
       "      <th>Organic_carbon</th>\n",
       "      <td>0.077</td>\n",
       "    </tr>\n",
       "    <tr>\n",
       "      <th>Sulfate</th>\n",
       "      <td>0.024</td>\n",
       "    </tr>\n",
       "    <tr>\n",
       "      <th>Hardness</th>\n",
       "      <td>0.010</td>\n",
       "    </tr>\n",
       "    <tr>\n",
       "      <th>Solids</th>\n",
       "      <td>0.010</td>\n",
       "    </tr>\n",
       "    <tr>\n",
       "      <th>Conductivity</th>\n",
       "      <td>0.008</td>\n",
       "    </tr>\n",
       "    <tr>\n",
       "      <th>Trihalomethanes</th>\n",
       "      <td>0.007</td>\n",
       "    </tr>\n",
       "  </tbody>\n",
       "</table>\n",
       "</div>"
      ],
      "text/plain": [
       "                 importance\n",
       "feature                    \n",
       "Turbidity             0.392\n",
       "Chloramines           0.246\n",
       "ph                    0.226\n",
       "Organic_carbon        0.077\n",
       "Sulfate               0.024\n",
       "Hardness              0.010\n",
       "Solids                0.010\n",
       "Conductivity          0.008\n",
       "Trihalomethanes       0.007"
      ]
     },
     "execution_count": 41,
     "metadata": {},
     "output_type": "execute_result"
    }
   ],
   "source": [
    "importances=pd.DataFrame({'feature':X_train.columns,'importance':np.round(classifier.feature_importances_,3)})\n",
    "importances=importances.sort_values('importance',ascending=False).set_index('feature')\n",
    "importances.head(100)"
   ]
  },
  {
   "cell_type": "code",
   "execution_count": 42,
   "id": "b362c757",
   "metadata": {},
   "outputs": [
    {
     "data": {
      "text/plain": [
       "<Axes: xlabel='feature'>"
      ]
     },
     "execution_count": 42,
     "metadata": {},
     "output_type": "execute_result"
    },
    {
     "data": {
      "image/png": "[encoded data removed]",
      "text/plain": [
       "<Figure size 640x480 with 1 Axes>"
      ]
     },
     "metadata": {},
     "output_type": "display_data"
    }
   ],
   "source": [
    "importances.plot.bar()"
   ]
  }
 ],
 "metadata": {
  "kernelspec": {
   "display_name": "Python 3",
   "language": "python",
   "name": "python3"
  },
  "language_info": {
   "codemirror_mode": {
    "name": "ipython",
    "version": 3
   },
   "file_extension": ".py",
   "mimetype": "text/x-python",
   "name": "python",
   "nbconvert_exporter": "python",
   "pygments_lexer": "ipython3",
   "version": "3.12.10"
  }
 },
 "nbformat": 4,
 "nbformat_minor": 5
}
